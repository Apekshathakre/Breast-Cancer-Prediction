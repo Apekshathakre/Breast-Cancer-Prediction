{
 "cells": [
  {
   "cell_type": "markdown",
   "id": "a4dd054b",
   "metadata": {},
   "source": [
    "***BREAST CANCER ANALYISIS***\n",
    "Breast cancer is a cancer that forms in the cells of the breast. Breast \n",
    "cancer can occur in women and rarely in men. It requires a medical \n",
    "diagnosis, through lab tests or imaging.\n",
    "\n",
    "We have data on patients . The main goal of this notebook is to build a \n",
    "machine learning model, that will be able to predict whether a patient will \n",
    "survive breast cancer or not.\n",
    "**Data understanding**\n",
    "This dataset consists of a group of breast cancer patients, who had \n",
    "surgery to remove the tumour. The dataset consists of these variables:\n",
    "1)Patient_ID: unique identifier id of a patient\n",
    "2)Age: Age of patient (Years) \n",
    "3)Gender: Male/Female.\n",
    "4)Protein1, Protein2, Protein3, Protein4: These expression levels are \n",
    "biomarker for the dectection of breast cancer.\n",
    "5)Tumour_Stage: I, II, III. It is a form of staging to describe the \n",
    "extensiveness of breast cancer, based on the size of the tumor and its \n",
    "spread to the lymph nodes.\n",
    "6)Histology: Infiltrating Ductal Carcinoma, Infiltrating Lobular \n",
    "Carcinoma, Mucinous Carcinoma.\n",
    "7)ER status: Positive/Negative:(Estrogen receptor) the hormone receptor \n",
    "determines the type of breast cancer to determine treatment.\n",
    "8)PR status: Positive/Negative:(Progesterone receptor)the hormone \n",
    "receptor determines the type of breast cancer to determine treatment.\n",
    "9)HER2 status: Positive/Negative.(human epidermal growth factor \n",
    "receptor2). This protein promotes the growth of cancer cells .\n",
    "10)Surgery_type: Lumpectomy, Simple Mastectomy, Modified Radical \n",
    "Mastectomy, Other surgery type.\n",
    "11)Date of Surgery: the date the surgery was performed (in DD-MON-YY).\n",
    "12)Date of Last_Visit: Date of last visit (in DD-MON-YY) to the hospital.\n",
    "13)Patient_Status: If Alive or Dead\n",
    "\n"
   ]
  },
  {
   "cell_type": "markdown",
   "id": "9a1f0c64",
   "metadata": {},
   "source": [
    "***EDA***\n",
    "**STEP1: TO UNDERSTAND THE DATASET**\n",
    "\n"
   ]
  },
  {
   "cell_type": "code",
   "execution_count": 112,
   "id": "da29464c",
   "metadata": {},
   "outputs": [],
   "source": [
    "#IMPORTING LIBRARIES\n",
    "import numpy as np\n",
    "import pandas as pd\n",
    "import matplotlib.pyplot as plt\n",
    "import seaborn as sns\n",
    "from sklearn import metrics\n",
    "from sklearn.model_selection import GridSearchCV\n",
    "from sklearn.metrics import confusion_matrix,accuracy_score,precision_score,recall_score,f1_score,classification_report\n",
    "%matplotlib inline"
   ]
  },
  {
   "cell_type": "code",
   "execution_count": 113,
   "id": "afac4a71",
   "metadata": {},
   "outputs": [],
   "source": [
    "#IMPORTING LIBRARIES\n",
    "data=pd.read_csv(\"BRCA.csv\")"
   ]
  },
  {
   "cell_type": "code",
   "execution_count": 114,
   "id": "efe46a49",
   "metadata": {},
   "outputs": [
    {
     "data": {
      "text/html": [
       "<div>\n",
       "<style scoped>\n",
       "    .dataframe tbody tr th:only-of-type {\n",
       "        vertical-align: middle;\n",
       "    }\n",
       "\n",
       "    .dataframe tbody tr th {\n",
       "        vertical-align: top;\n",
       "    }\n",
       "\n",
       "    .dataframe thead th {\n",
       "        text-align: right;\n",
       "    }\n",
       "</style>\n",
       "<table border=\"1\" class=\"dataframe\">\n",
       "  <thead>\n",
       "    <tr style=\"text-align: right;\">\n",
       "      <th></th>\n",
       "      <th>Patient_ID</th>\n",
       "      <th>Age</th>\n",
       "      <th>Gender</th>\n",
       "      <th>Protein1</th>\n",
       "      <th>Protein2</th>\n",
       "      <th>Protein3</th>\n",
       "      <th>Protein4</th>\n",
       "      <th>Tumour_Stage</th>\n",
       "      <th>Histology</th>\n",
       "      <th>ER status</th>\n",
       "      <th>PR status</th>\n",
       "      <th>HER2 status</th>\n",
       "      <th>Surgery_type</th>\n",
       "      <th>Date_of_Surgery</th>\n",
       "      <th>Date_of_Last_Visit</th>\n",
       "      <th>Patient_Status</th>\n",
       "    </tr>\n",
       "  </thead>\n",
       "  <tbody>\n",
       "    <tr>\n",
       "      <th>0</th>\n",
       "      <td>TCGA-D8-A1XD</td>\n",
       "      <td>36</td>\n",
       "      <td>FEMALE</td>\n",
       "      <td>0.080353</td>\n",
       "      <td>0.42638</td>\n",
       "      <td>0.54715</td>\n",
       "      <td>0.273680</td>\n",
       "      <td>III</td>\n",
       "      <td>Infiltrating Ductal Carcinoma</td>\n",
       "      <td>Positive</td>\n",
       "      <td>Positive</td>\n",
       "      <td>Negative</td>\n",
       "      <td>Modified Radical Mastectomy</td>\n",
       "      <td>15-Jan-17</td>\n",
       "      <td>19-Jun-17</td>\n",
       "      <td>Alive</td>\n",
       "    </tr>\n",
       "    <tr>\n",
       "      <th>1</th>\n",
       "      <td>TCGA-EW-A1OX</td>\n",
       "      <td>43</td>\n",
       "      <td>FEMALE</td>\n",
       "      <td>-0.420320</td>\n",
       "      <td>0.57807</td>\n",
       "      <td>0.61447</td>\n",
       "      <td>-0.031505</td>\n",
       "      <td>II</td>\n",
       "      <td>Mucinous Carcinoma</td>\n",
       "      <td>Positive</td>\n",
       "      <td>Positive</td>\n",
       "      <td>Negative</td>\n",
       "      <td>Lumpectomy</td>\n",
       "      <td>26-Apr-17</td>\n",
       "      <td>9-Nov-18</td>\n",
       "      <td>Dead</td>\n",
       "    </tr>\n",
       "    <tr>\n",
       "      <th>2</th>\n",
       "      <td>TCGA-A8-A079</td>\n",
       "      <td>69</td>\n",
       "      <td>FEMALE</td>\n",
       "      <td>0.213980</td>\n",
       "      <td>1.31140</td>\n",
       "      <td>-0.32747</td>\n",
       "      <td>-0.234260</td>\n",
       "      <td>III</td>\n",
       "      <td>Infiltrating Ductal Carcinoma</td>\n",
       "      <td>Positive</td>\n",
       "      <td>Positive</td>\n",
       "      <td>Negative</td>\n",
       "      <td>Other</td>\n",
       "      <td>8-Sep-17</td>\n",
       "      <td>9-Jun-18</td>\n",
       "      <td>Alive</td>\n",
       "    </tr>\n",
       "    <tr>\n",
       "      <th>3</th>\n",
       "      <td>TCGA-D8-A1XR</td>\n",
       "      <td>56</td>\n",
       "      <td>FEMALE</td>\n",
       "      <td>0.345090</td>\n",
       "      <td>-0.21147</td>\n",
       "      <td>-0.19304</td>\n",
       "      <td>0.124270</td>\n",
       "      <td>II</td>\n",
       "      <td>Infiltrating Ductal Carcinoma</td>\n",
       "      <td>Positive</td>\n",
       "      <td>Positive</td>\n",
       "      <td>Negative</td>\n",
       "      <td>Modified Radical Mastectomy</td>\n",
       "      <td>25-Jan-17</td>\n",
       "      <td>12-Jul-17</td>\n",
       "      <td>Alive</td>\n",
       "    </tr>\n",
       "    <tr>\n",
       "      <th>4</th>\n",
       "      <td>TCGA-BH-A0BF</td>\n",
       "      <td>56</td>\n",
       "      <td>FEMALE</td>\n",
       "      <td>0.221550</td>\n",
       "      <td>1.90680</td>\n",
       "      <td>0.52045</td>\n",
       "      <td>-0.311990</td>\n",
       "      <td>II</td>\n",
       "      <td>Infiltrating Ductal Carcinoma</td>\n",
       "      <td>Positive</td>\n",
       "      <td>Positive</td>\n",
       "      <td>Negative</td>\n",
       "      <td>Other</td>\n",
       "      <td>6-May-17</td>\n",
       "      <td>27-Jun-19</td>\n",
       "      <td>Dead</td>\n",
       "    </tr>\n",
       "  </tbody>\n",
       "</table>\n",
       "</div>"
      ],
      "text/plain": [
       "     Patient_ID  Age  Gender  Protein1  Protein2  Protein3  Protein4  \\\n",
       "0  TCGA-D8-A1XD   36  FEMALE  0.080353   0.42638   0.54715  0.273680   \n",
       "1  TCGA-EW-A1OX   43  FEMALE -0.420320   0.57807   0.61447 -0.031505   \n",
       "2  TCGA-A8-A079   69  FEMALE  0.213980   1.31140  -0.32747 -0.234260   \n",
       "3  TCGA-D8-A1XR   56  FEMALE  0.345090  -0.21147  -0.19304  0.124270   \n",
       "4  TCGA-BH-A0BF   56  FEMALE  0.221550   1.90680   0.52045 -0.311990   \n",
       "\n",
       "  Tumour_Stage                      Histology ER status PR status HER2 status  \\\n",
       "0          III  Infiltrating Ductal Carcinoma  Positive  Positive    Negative   \n",
       "1           II             Mucinous Carcinoma  Positive  Positive    Negative   \n",
       "2          III  Infiltrating Ductal Carcinoma  Positive  Positive    Negative   \n",
       "3           II  Infiltrating Ductal Carcinoma  Positive  Positive    Negative   \n",
       "4           II  Infiltrating Ductal Carcinoma  Positive  Positive    Negative   \n",
       "\n",
       "                  Surgery_type Date_of_Surgery Date_of_Last_Visit  \\\n",
       "0  Modified Radical Mastectomy       15-Jan-17          19-Jun-17   \n",
       "1                   Lumpectomy       26-Apr-17           9-Nov-18   \n",
       "2                        Other        8-Sep-17           9-Jun-18   \n",
       "3  Modified Radical Mastectomy       25-Jan-17          12-Jul-17   \n",
       "4                        Other        6-May-17          27-Jun-19   \n",
       "\n",
       "  Patient_Status  \n",
       "0          Alive  \n",
       "1           Dead  \n",
       "2          Alive  \n",
       "3          Alive  \n",
       "4           Dead  "
      ]
     },
     "execution_count": 114,
     "metadata": {},
     "output_type": "execute_result"
    }
   ],
   "source": [
    "# inspecting the dataset\n",
    "#Printing the first 5 rows\n",
    "data.head()"
   ]
  },
  {
   "cell_type": "code",
   "execution_count": 115,
   "id": "1796c57f",
   "metadata": {},
   "outputs": [
    {
     "data": {
      "text/html": [
       "<div>\n",
       "<style scoped>\n",
       "    .dataframe tbody tr th:only-of-type {\n",
       "        vertical-align: middle;\n",
       "    }\n",
       "\n",
       "    .dataframe tbody tr th {\n",
       "        vertical-align: top;\n",
       "    }\n",
       "\n",
       "    .dataframe thead th {\n",
       "        text-align: right;\n",
       "    }\n",
       "</style>\n",
       "<table border=\"1\" class=\"dataframe\">\n",
       "  <thead>\n",
       "    <tr style=\"text-align: right;\">\n",
       "      <th></th>\n",
       "      <th>Patient_ID</th>\n",
       "      <th>Age</th>\n",
       "      <th>Gender</th>\n",
       "      <th>Protein1</th>\n",
       "      <th>Protein2</th>\n",
       "      <th>Protein3</th>\n",
       "      <th>Protein4</th>\n",
       "      <th>Tumour_Stage</th>\n",
       "      <th>Histology</th>\n",
       "      <th>ER status</th>\n",
       "      <th>PR status</th>\n",
       "      <th>HER2 status</th>\n",
       "      <th>Surgery_type</th>\n",
       "      <th>Date_of_Surgery</th>\n",
       "      <th>Date_of_Last_Visit</th>\n",
       "      <th>Patient_Status</th>\n",
       "    </tr>\n",
       "  </thead>\n",
       "  <tbody>\n",
       "    <tr>\n",
       "      <th>329</th>\n",
       "      <td>TCGA-AN-A04A</td>\n",
       "      <td>36</td>\n",
       "      <td>FEMALE</td>\n",
       "      <td>0.23180</td>\n",
       "      <td>0.61804</td>\n",
       "      <td>-0.55779</td>\n",
       "      <td>-0.517350</td>\n",
       "      <td>III</td>\n",
       "      <td>Infiltrating Ductal Carcinoma</td>\n",
       "      <td>Positive</td>\n",
       "      <td>Positive</td>\n",
       "      <td>Positive</td>\n",
       "      <td>Simple Mastectomy</td>\n",
       "      <td>11-Nov-19</td>\n",
       "      <td>9-Feb-20</td>\n",
       "      <td>Dead</td>\n",
       "    </tr>\n",
       "    <tr>\n",
       "      <th>330</th>\n",
       "      <td>TCGA-A8-A085</td>\n",
       "      <td>44</td>\n",
       "      <td>MALE</td>\n",
       "      <td>0.73272</td>\n",
       "      <td>1.11170</td>\n",
       "      <td>-0.26952</td>\n",
       "      <td>-0.354920</td>\n",
       "      <td>II</td>\n",
       "      <td>Infiltrating Lobular Carcinoma</td>\n",
       "      <td>Positive</td>\n",
       "      <td>Positive</td>\n",
       "      <td>Negative</td>\n",
       "      <td>Other</td>\n",
       "      <td>1-Nov-19</td>\n",
       "      <td>4-Mar-20</td>\n",
       "      <td>Dead</td>\n",
       "    </tr>\n",
       "    <tr>\n",
       "      <th>331</th>\n",
       "      <td>TCGA-A1-A0SG</td>\n",
       "      <td>61</td>\n",
       "      <td>FEMALE</td>\n",
       "      <td>-0.71947</td>\n",
       "      <td>2.54850</td>\n",
       "      <td>-0.15024</td>\n",
       "      <td>0.339680</td>\n",
       "      <td>II</td>\n",
       "      <td>Infiltrating Ductal Carcinoma</td>\n",
       "      <td>Positive</td>\n",
       "      <td>Positive</td>\n",
       "      <td>Negative</td>\n",
       "      <td>Lumpectomy</td>\n",
       "      <td>11-Nov-19</td>\n",
       "      <td>18-Jan-21</td>\n",
       "      <td>Dead</td>\n",
       "    </tr>\n",
       "    <tr>\n",
       "      <th>332</th>\n",
       "      <td>TCGA-A2-A0EU</td>\n",
       "      <td>79</td>\n",
       "      <td>FEMALE</td>\n",
       "      <td>0.47940</td>\n",
       "      <td>2.05590</td>\n",
       "      <td>-0.53136</td>\n",
       "      <td>-0.188480</td>\n",
       "      <td>I</td>\n",
       "      <td>Infiltrating Ductal Carcinoma</td>\n",
       "      <td>Positive</td>\n",
       "      <td>Positive</td>\n",
       "      <td>Positive</td>\n",
       "      <td>Lumpectomy</td>\n",
       "      <td>21-Nov-19</td>\n",
       "      <td>19-Feb-21</td>\n",
       "      <td>Dead</td>\n",
       "    </tr>\n",
       "    <tr>\n",
       "      <th>333</th>\n",
       "      <td>TCGA-B6-A40B</td>\n",
       "      <td>76</td>\n",
       "      <td>FEMALE</td>\n",
       "      <td>-0.24427</td>\n",
       "      <td>0.92556</td>\n",
       "      <td>-0.41823</td>\n",
       "      <td>-0.067848</td>\n",
       "      <td>I</td>\n",
       "      <td>Infiltrating Ductal Carcinoma</td>\n",
       "      <td>Positive</td>\n",
       "      <td>Positive</td>\n",
       "      <td>Negative</td>\n",
       "      <td>Lumpectomy</td>\n",
       "      <td>11-Nov-19</td>\n",
       "      <td>5-Jan-21</td>\n",
       "      <td>Dead</td>\n",
       "    </tr>\n",
       "  </tbody>\n",
       "</table>\n",
       "</div>"
      ],
      "text/plain": [
       "       Patient_ID  Age  Gender  Protein1  Protein2  Protein3  Protein4  \\\n",
       "329  TCGA-AN-A04A   36  FEMALE   0.23180   0.61804  -0.55779 -0.517350   \n",
       "330  TCGA-A8-A085   44    MALE   0.73272   1.11170  -0.26952 -0.354920   \n",
       "331  TCGA-A1-A0SG   61  FEMALE  -0.71947   2.54850  -0.15024  0.339680   \n",
       "332  TCGA-A2-A0EU   79  FEMALE   0.47940   2.05590  -0.53136 -0.188480   \n",
       "333  TCGA-B6-A40B   76  FEMALE  -0.24427   0.92556  -0.41823 -0.067848   \n",
       "\n",
       "    Tumour_Stage                       Histology ER status PR status  \\\n",
       "329          III   Infiltrating Ductal Carcinoma  Positive  Positive   \n",
       "330           II  Infiltrating Lobular Carcinoma  Positive  Positive   \n",
       "331           II   Infiltrating Ductal Carcinoma  Positive  Positive   \n",
       "332            I   Infiltrating Ductal Carcinoma  Positive  Positive   \n",
       "333            I   Infiltrating Ductal Carcinoma  Positive  Positive   \n",
       "\n",
       "    HER2 status       Surgery_type Date_of_Surgery Date_of_Last_Visit  \\\n",
       "329    Positive  Simple Mastectomy       11-Nov-19           9-Feb-20   \n",
       "330    Negative              Other        1-Nov-19           4-Mar-20   \n",
       "331    Negative         Lumpectomy       11-Nov-19          18-Jan-21   \n",
       "332    Positive         Lumpectomy       21-Nov-19          19-Feb-21   \n",
       "333    Negative         Lumpectomy       11-Nov-19           5-Jan-21   \n",
       "\n",
       "    Patient_Status  \n",
       "329           Dead  \n",
       "330           Dead  \n",
       "331           Dead  \n",
       "332           Dead  \n",
       "333           Dead  "
      ]
     },
     "execution_count": 115,
     "metadata": {},
     "output_type": "execute_result"
    }
   ],
   "source": [
    "#Printing the last 5 rows\n",
    "data.tail()"
   ]
  },
  {
   "cell_type": "code",
   "execution_count": 116,
   "id": "8006eedf",
   "metadata": {},
   "outputs": [
    {
     "data": {
      "text/plain": [
       "(334, 16)"
      ]
     },
     "execution_count": 116,
     "metadata": {},
     "output_type": "execute_result"
    }
   ],
   "source": [
    "#to find dimensions of the dataset\n",
    "data.shape"
   ]
  },
  {
   "cell_type": "code",
   "execution_count": 117,
   "id": "e384184c",
   "metadata": {},
   "outputs": [
    {
     "name": "stdout",
     "output_type": "stream",
     "text": [
      "<class 'pandas.core.frame.DataFrame'>\n",
      "RangeIndex: 334 entries, 0 to 333\n",
      "Data columns (total 16 columns):\n",
      " #   Column              Non-Null Count  Dtype  \n",
      "---  ------              --------------  -----  \n",
      " 0   Patient_ID          334 non-null    object \n",
      " 1   Age                 334 non-null    int64  \n",
      " 2   Gender              334 non-null    object \n",
      " 3   Protein1            334 non-null    float64\n",
      " 4   Protein2            334 non-null    float64\n",
      " 5   Protein3            334 non-null    float64\n",
      " 6   Protein4            334 non-null    float64\n",
      " 7   Tumour_Stage        334 non-null    object \n",
      " 8   Histology           334 non-null    object \n",
      " 9   ER status           334 non-null    object \n",
      " 10  PR status           334 non-null    object \n",
      " 11  HER2 status         334 non-null    object \n",
      " 12  Surgery_type        334 non-null    object \n",
      " 13  Date_of_Surgery     334 non-null    object \n",
      " 14  Date_of_Last_Visit  317 non-null    object \n",
      " 15  Patient_Status      321 non-null    object \n",
      "dtypes: float64(4), int64(1), object(11)\n",
      "memory usage: 41.9+ KB\n"
     ]
    }
   ],
   "source": [
    "#Printing information of data\n",
    "data.info()"
   ]
  },
  {
   "cell_type": "code",
   "execution_count": 118,
   "id": "73d07ee6",
   "metadata": {},
   "outputs": [
    {
     "data": {
      "text/plain": [
       "Index(['Patient_ID', 'Age', 'Gender', 'Protein1', 'Protein2', 'Protein3',\n",
       "       'Protein4', 'Tumour_Stage', 'Histology', 'ER status', 'PR status',\n",
       "       'HER2 status', 'Surgery_type', 'Date_of_Surgery', 'Date_of_Last_Visit',\n",
       "       'Patient_Status'],\n",
       "      dtype='object')"
      ]
     },
     "execution_count": 118,
     "metadata": {},
     "output_type": "execute_result"
    }
   ],
   "source": [
    "#Viewing the column heading\n",
    "data.columns"
   ]
  },
  {
   "cell_type": "code",
   "execution_count": 119,
   "id": "3d531560",
   "metadata": {},
   "outputs": [
    {
     "data": {
      "text/plain": [
       "Patient_ID             object\n",
       "Age                     int64\n",
       "Gender                 object\n",
       "Protein1              float64\n",
       "Protein2              float64\n",
       "Protein3              float64\n",
       "Protein4              float64\n",
       "Tumour_Stage           object\n",
       "Histology              object\n",
       "ER status              object\n",
       "PR status              object\n",
       "HER2 status            object\n",
       "Surgery_type           object\n",
       "Date_of_Surgery        object\n",
       "Date_of_Last_Visit     object\n",
       "Patient_Status         object\n",
       "dtype: object"
      ]
     },
     "execution_count": 119,
     "metadata": {},
     "output_type": "execute_result"
    }
   ],
   "source": [
    "#to find the types of data,categorical or numerical.\n",
    "data.dtypes"
   ]
  },
  {
   "cell_type": "code",
   "execution_count": 120,
   "id": "b38cee77",
   "metadata": {},
   "outputs": [
    {
     "data": {
      "text/html": [
       "<div>\n",
       "<style scoped>\n",
       "    .dataframe tbody tr th:only-of-type {\n",
       "        vertical-align: middle;\n",
       "    }\n",
       "\n",
       "    .dataframe tbody tr th {\n",
       "        vertical-align: top;\n",
       "    }\n",
       "\n",
       "    .dataframe thead th {\n",
       "        text-align: right;\n",
       "    }\n",
       "</style>\n",
       "<table border=\"1\" class=\"dataframe\">\n",
       "  <thead>\n",
       "    <tr style=\"text-align: right;\">\n",
       "      <th></th>\n",
       "      <th>Age</th>\n",
       "      <th>Protein1</th>\n",
       "      <th>Protein2</th>\n",
       "      <th>Protein3</th>\n",
       "      <th>Protein4</th>\n",
       "    </tr>\n",
       "  </thead>\n",
       "  <tbody>\n",
       "    <tr>\n",
       "      <th>count</th>\n",
       "      <td>334.000000</td>\n",
       "      <td>334.000000</td>\n",
       "      <td>334.000000</td>\n",
       "      <td>334.000000</td>\n",
       "      <td>334.000000</td>\n",
       "    </tr>\n",
       "    <tr>\n",
       "      <th>mean</th>\n",
       "      <td>58.886228</td>\n",
       "      <td>-0.029991</td>\n",
       "      <td>0.946896</td>\n",
       "      <td>-0.090204</td>\n",
       "      <td>0.009819</td>\n",
       "    </tr>\n",
       "    <tr>\n",
       "      <th>std</th>\n",
       "      <td>12.961212</td>\n",
       "      <td>0.563588</td>\n",
       "      <td>0.911637</td>\n",
       "      <td>0.585175</td>\n",
       "      <td>0.629055</td>\n",
       "    </tr>\n",
       "    <tr>\n",
       "      <th>min</th>\n",
       "      <td>29.000000</td>\n",
       "      <td>-2.340900</td>\n",
       "      <td>-0.978730</td>\n",
       "      <td>-1.627400</td>\n",
       "      <td>-2.025500</td>\n",
       "    </tr>\n",
       "    <tr>\n",
       "      <th>25%</th>\n",
       "      <td>49.000000</td>\n",
       "      <td>-0.358888</td>\n",
       "      <td>0.362173</td>\n",
       "      <td>-0.513748</td>\n",
       "      <td>-0.377090</td>\n",
       "    </tr>\n",
       "    <tr>\n",
       "      <th>50%</th>\n",
       "      <td>58.000000</td>\n",
       "      <td>0.006129</td>\n",
       "      <td>0.992805</td>\n",
       "      <td>-0.173180</td>\n",
       "      <td>0.041768</td>\n",
       "    </tr>\n",
       "    <tr>\n",
       "      <th>75%</th>\n",
       "      <td>68.000000</td>\n",
       "      <td>0.343598</td>\n",
       "      <td>1.627900</td>\n",
       "      <td>0.278353</td>\n",
       "      <td>0.425630</td>\n",
       "    </tr>\n",
       "    <tr>\n",
       "      <th>max</th>\n",
       "      <td>90.000000</td>\n",
       "      <td>1.593600</td>\n",
       "      <td>3.402200</td>\n",
       "      <td>2.193400</td>\n",
       "      <td>1.629900</td>\n",
       "    </tr>\n",
       "  </tbody>\n",
       "</table>\n",
       "</div>"
      ],
      "text/plain": [
       "              Age    Protein1    Protein2    Protein3    Protein4\n",
       "count  334.000000  334.000000  334.000000  334.000000  334.000000\n",
       "mean    58.886228   -0.029991    0.946896   -0.090204    0.009819\n",
       "std     12.961212    0.563588    0.911637    0.585175    0.629055\n",
       "min     29.000000   -2.340900   -0.978730   -1.627400   -2.025500\n",
       "25%     49.000000   -0.358888    0.362173   -0.513748   -0.377090\n",
       "50%     58.000000    0.006129    0.992805   -0.173180    0.041768\n",
       "75%     68.000000    0.343598    1.627900    0.278353    0.425630\n",
       "max     90.000000    1.593600    3.402200    2.193400    1.629900"
      ]
     },
     "execution_count": 120,
     "metadata": {},
     "output_type": "execute_result"
    }
   ],
   "source": [
    "#description of the dataset.\n",
    "data.describe()"
   ]
  },
  {
   "cell_type": "code",
   "execution_count": 121,
   "id": "45ad95b7",
   "metadata": {},
   "outputs": [
    {
     "data": {
      "text/plain": [
       "Alive    255\n",
       "Dead      66\n",
       "Name: Patient_Status, dtype: int64"
      ]
     },
     "execution_count": 121,
     "metadata": {},
     "output_type": "execute_result"
    }
   ],
   "source": [
    "#Inspecting target variable\n",
    "data.Patient_Status.value_counts()"
   ]
  },
  {
   "cell_type": "raw",
   "id": "21cce1e0",
   "metadata": {},
   "source": [
    "1) The dataset includes information about 321 patients.\n",
    "2) There are 8 features. Even though all of them are numeric type, only 5 \n",
    "are really numerical, the rest are categorical.\n",
    "categorical features : Tumour_stage, Histology, Surgery_type, \n",
    "Pateint_Status\n",
    "numerical features : Age, Protein1, Protein2, Protein3, Protein4\n",
    "3) The target is output. 0 is Alive, 1 is Dead.\n",
    "4)There are no missing values."
   ]
  },
  {
   "cell_type": "markdown",
   "id": "423a448d",
   "metadata": {},
   "source": [
    "**STEP2:DATA CLEANING**"
   ]
  },
  {
   "cell_type": "code",
   "execution_count": 122,
   "id": "a51cda09",
   "metadata": {},
   "outputs": [
    {
     "data": {
      "text/plain": [
       "Patient_ID             0\n",
       "Age                    0\n",
       "Gender                 0\n",
       "Protein1               0\n",
       "Protein2               0\n",
       "Protein3               0\n",
       "Protein4               0\n",
       "Tumour_Stage           0\n",
       "Histology              0\n",
       "ER status              0\n",
       "PR status              0\n",
       "HER2 status            0\n",
       "Surgery_type           0\n",
       "Date_of_Surgery        0\n",
       "Date_of_Last_Visit    17\n",
       "Patient_Status        13\n",
       "dtype: int64"
      ]
     },
     "execution_count": 122,
     "metadata": {},
     "output_type": "execute_result"
    }
   ],
   "source": [
    "# Checking if any NULL values are present in the dataset\n",
    "data.isnull().sum()"
   ]
  },
  {
   "cell_type": "raw",
   "id": "396725bc",
   "metadata": {},
   "source": [
    "Date_of_Last_Visit has 17 and Patient_Status has 13 NULL values respectively.\n",
    "Now these NULL values should be removed."
   ]
  },
  {
   "cell_type": "code",
   "execution_count": 126,
   "id": "bb3c8465",
   "metadata": {},
   "outputs": [],
   "source": [
    "#Removing NULL values\n",
    "data.dropna(inplace=True)"
   ]
  },
  {
   "cell_type": "code",
   "execution_count": 127,
   "id": "0e0f53ec",
   "metadata": {},
   "outputs": [
    {
     "data": {
      "text/plain": [
       "Patient_ID            0\n",
       "Age                   0\n",
       "Gender                0\n",
       "Protein1              0\n",
       "Protein2              0\n",
       "Protein3              0\n",
       "Protein4              0\n",
       "Tumour_Stage          0\n",
       "Histology             0\n",
       "ER status             0\n",
       "PR status             0\n",
       "HER2 status           0\n",
       "Surgery_type          0\n",
       "Date_of_Surgery       0\n",
       "Date_of_Last_Visit    0\n",
       "Patient_Status        0\n",
       "dtype: int64"
      ]
     },
     "execution_count": 127,
     "metadata": {},
     "output_type": "execute_result"
    }
   ],
   "source": [
    "#Checking whether the NULL values are removed.\n",
    "data.isnull().sum()"
   ]
  },
  {
   "cell_type": "raw",
   "id": "6f3d1fc5",
   "metadata": {},
   "source": [
    "The NULL values from the dataset is removed completely."
   ]
  },
  {
   "cell_type": "code",
   "execution_count": 128,
   "id": "a8e39d2f",
   "metadata": {},
   "outputs": [
    {
     "data": {
      "text/plain": [
       "(317, 16)"
      ]
     },
     "execution_count": 128,
     "metadata": {},
     "output_type": "execute_result"
    }
   ],
   "source": [
    "#Printing new shape of dataset\n",
    "data.shape"
   ]
  },
  {
   "cell_type": "code",
   "execution_count": 129,
   "id": "e1beed39",
   "metadata": {},
   "outputs": [
    {
     "name": "stdout",
     "output_type": "stream",
     "text": [
      "<class 'pandas.core.frame.DataFrame'>\n",
      "Int64Index: 317 entries, 0 to 333\n",
      "Data columns (total 16 columns):\n",
      " #   Column              Non-Null Count  Dtype  \n",
      "---  ------              --------------  -----  \n",
      " 0   Patient_ID          317 non-null    object \n",
      " 1   Age                 317 non-null    int64  \n",
      " 2   Gender              317 non-null    object \n",
      " 3   Protein1            317 non-null    float64\n",
      " 4   Protein2            317 non-null    float64\n",
      " 5   Protein3            317 non-null    float64\n",
      " 6   Protein4            317 non-null    float64\n",
      " 7   Tumour_Stage        317 non-null    object \n",
      " 8   Histology           317 non-null    object \n",
      " 9   ER status           317 non-null    object \n",
      " 10  PR status           317 non-null    object \n",
      " 11  HER2 status         317 non-null    object \n",
      " 12  Surgery_type        317 non-null    object \n",
      " 13  Date_of_Surgery     317 non-null    object \n",
      " 14  Date_of_Last_Visit  317 non-null    object \n",
      " 15  Patient_Status      317 non-null    object \n",
      "dtypes: float64(4), int64(1), object(11)\n",
      "memory usage: 42.1+ KB\n"
     ]
    }
   ],
   "source": [
    "data.info()"
   ]
  },
  {
   "cell_type": "code",
   "execution_count": 130,
   "id": "b910bb18",
   "metadata": {},
   "outputs": [
    {
     "data": {
      "text/plain": [
       "0      False\n",
       "1      False\n",
       "2      False\n",
       "3      False\n",
       "4      False\n",
       "       ...  \n",
       "329    False\n",
       "330    False\n",
       "331    False\n",
       "332    False\n",
       "333    False\n",
       "Length: 317, dtype: bool"
      ]
     },
     "execution_count": 130,
     "metadata": {},
     "output_type": "execute_result"
    }
   ],
   "source": [
    "data.duplicated()"
   ]
  },
  {
   "cell_type": "code",
   "execution_count": null,
   "id": "c4870add",
   "metadata": {},
   "outputs": [],
   "source": [
    "#Checking whether any duplicate values is present\n",
    "#data[data.duplicated()]"
   ]
  },
  {
   "cell_type": "raw",
   "id": "843f3daa",
   "metadata": {},
   "source": [
    "No duplicate data is present in the dataset."
   ]
  },
  {
   "cell_type": "code",
   "execution_count": 131,
   "id": "8255a0a8",
   "metadata": {},
   "outputs": [],
   "source": [
    "#Removing unrelevent and unwanted columns\n",
    "data.drop(columns=[\"Patient_ID\",\"Date_of_Surgery\",\"Date_of_Last_Visit\"], inplace = True)"
   ]
  },
  {
   "cell_type": "code",
   "execution_count": 132,
   "id": "0ef476ac",
   "metadata": {},
   "outputs": [
    {
     "data": {
      "text/html": [
       "<div>\n",
       "<style scoped>\n",
       "    .dataframe tbody tr th:only-of-type {\n",
       "        vertical-align: middle;\n",
       "    }\n",
       "\n",
       "    .dataframe tbody tr th {\n",
       "        vertical-align: top;\n",
       "    }\n",
       "\n",
       "    .dataframe thead th {\n",
       "        text-align: right;\n",
       "    }\n",
       "</style>\n",
       "<table border=\"1\" class=\"dataframe\">\n",
       "  <thead>\n",
       "    <tr style=\"text-align: right;\">\n",
       "      <th></th>\n",
       "      <th>Age</th>\n",
       "      <th>Gender</th>\n",
       "      <th>Protein1</th>\n",
       "      <th>Protein2</th>\n",
       "      <th>Protein3</th>\n",
       "      <th>Protein4</th>\n",
       "      <th>Tumour_Stage</th>\n",
       "      <th>Histology</th>\n",
       "      <th>ER status</th>\n",
       "      <th>PR status</th>\n",
       "      <th>HER2 status</th>\n",
       "      <th>Surgery_type</th>\n",
       "      <th>Patient_Status</th>\n",
       "    </tr>\n",
       "  </thead>\n",
       "  <tbody>\n",
       "    <tr>\n",
       "      <th>0</th>\n",
       "      <td>36</td>\n",
       "      <td>FEMALE</td>\n",
       "      <td>0.080353</td>\n",
       "      <td>0.42638</td>\n",
       "      <td>0.54715</td>\n",
       "      <td>0.273680</td>\n",
       "      <td>III</td>\n",
       "      <td>Infiltrating Ductal Carcinoma</td>\n",
       "      <td>Positive</td>\n",
       "      <td>Positive</td>\n",
       "      <td>Negative</td>\n",
       "      <td>Modified Radical Mastectomy</td>\n",
       "      <td>Alive</td>\n",
       "    </tr>\n",
       "    <tr>\n",
       "      <th>1</th>\n",
       "      <td>43</td>\n",
       "      <td>FEMALE</td>\n",
       "      <td>-0.420320</td>\n",
       "      <td>0.57807</td>\n",
       "      <td>0.61447</td>\n",
       "      <td>-0.031505</td>\n",
       "      <td>II</td>\n",
       "      <td>Mucinous Carcinoma</td>\n",
       "      <td>Positive</td>\n",
       "      <td>Positive</td>\n",
       "      <td>Negative</td>\n",
       "      <td>Lumpectomy</td>\n",
       "      <td>Dead</td>\n",
       "    </tr>\n",
       "    <tr>\n",
       "      <th>2</th>\n",
       "      <td>69</td>\n",
       "      <td>FEMALE</td>\n",
       "      <td>0.213980</td>\n",
       "      <td>1.31140</td>\n",
       "      <td>-0.32747</td>\n",
       "      <td>-0.234260</td>\n",
       "      <td>III</td>\n",
       "      <td>Infiltrating Ductal Carcinoma</td>\n",
       "      <td>Positive</td>\n",
       "      <td>Positive</td>\n",
       "      <td>Negative</td>\n",
       "      <td>Other</td>\n",
       "      <td>Alive</td>\n",
       "    </tr>\n",
       "    <tr>\n",
       "      <th>3</th>\n",
       "      <td>56</td>\n",
       "      <td>FEMALE</td>\n",
       "      <td>0.345090</td>\n",
       "      <td>-0.21147</td>\n",
       "      <td>-0.19304</td>\n",
       "      <td>0.124270</td>\n",
       "      <td>II</td>\n",
       "      <td>Infiltrating Ductal Carcinoma</td>\n",
       "      <td>Positive</td>\n",
       "      <td>Positive</td>\n",
       "      <td>Negative</td>\n",
       "      <td>Modified Radical Mastectomy</td>\n",
       "      <td>Alive</td>\n",
       "    </tr>\n",
       "    <tr>\n",
       "      <th>4</th>\n",
       "      <td>56</td>\n",
       "      <td>FEMALE</td>\n",
       "      <td>0.221550</td>\n",
       "      <td>1.90680</td>\n",
       "      <td>0.52045</td>\n",
       "      <td>-0.311990</td>\n",
       "      <td>II</td>\n",
       "      <td>Infiltrating Ductal Carcinoma</td>\n",
       "      <td>Positive</td>\n",
       "      <td>Positive</td>\n",
       "      <td>Negative</td>\n",
       "      <td>Other</td>\n",
       "      <td>Dead</td>\n",
       "    </tr>\n",
       "    <tr>\n",
       "      <th>...</th>\n",
       "      <td>...</td>\n",
       "      <td>...</td>\n",
       "      <td>...</td>\n",
       "      <td>...</td>\n",
       "      <td>...</td>\n",
       "      <td>...</td>\n",
       "      <td>...</td>\n",
       "      <td>...</td>\n",
       "      <td>...</td>\n",
       "      <td>...</td>\n",
       "      <td>...</td>\n",
       "      <td>...</td>\n",
       "      <td>...</td>\n",
       "    </tr>\n",
       "    <tr>\n",
       "      <th>329</th>\n",
       "      <td>36</td>\n",
       "      <td>FEMALE</td>\n",
       "      <td>0.231800</td>\n",
       "      <td>0.61804</td>\n",
       "      <td>-0.55779</td>\n",
       "      <td>-0.517350</td>\n",
       "      <td>III</td>\n",
       "      <td>Infiltrating Ductal Carcinoma</td>\n",
       "      <td>Positive</td>\n",
       "      <td>Positive</td>\n",
       "      <td>Positive</td>\n",
       "      <td>Simple Mastectomy</td>\n",
       "      <td>Dead</td>\n",
       "    </tr>\n",
       "    <tr>\n",
       "      <th>330</th>\n",
       "      <td>44</td>\n",
       "      <td>MALE</td>\n",
       "      <td>0.732720</td>\n",
       "      <td>1.11170</td>\n",
       "      <td>-0.26952</td>\n",
       "      <td>-0.354920</td>\n",
       "      <td>II</td>\n",
       "      <td>Infiltrating Lobular Carcinoma</td>\n",
       "      <td>Positive</td>\n",
       "      <td>Positive</td>\n",
       "      <td>Negative</td>\n",
       "      <td>Other</td>\n",
       "      <td>Dead</td>\n",
       "    </tr>\n",
       "    <tr>\n",
       "      <th>331</th>\n",
       "      <td>61</td>\n",
       "      <td>FEMALE</td>\n",
       "      <td>-0.719470</td>\n",
       "      <td>2.54850</td>\n",
       "      <td>-0.15024</td>\n",
       "      <td>0.339680</td>\n",
       "      <td>II</td>\n",
       "      <td>Infiltrating Ductal Carcinoma</td>\n",
       "      <td>Positive</td>\n",
       "      <td>Positive</td>\n",
       "      <td>Negative</td>\n",
       "      <td>Lumpectomy</td>\n",
       "      <td>Dead</td>\n",
       "    </tr>\n",
       "    <tr>\n",
       "      <th>332</th>\n",
       "      <td>79</td>\n",
       "      <td>FEMALE</td>\n",
       "      <td>0.479400</td>\n",
       "      <td>2.05590</td>\n",
       "      <td>-0.53136</td>\n",
       "      <td>-0.188480</td>\n",
       "      <td>I</td>\n",
       "      <td>Infiltrating Ductal Carcinoma</td>\n",
       "      <td>Positive</td>\n",
       "      <td>Positive</td>\n",
       "      <td>Positive</td>\n",
       "      <td>Lumpectomy</td>\n",
       "      <td>Dead</td>\n",
       "    </tr>\n",
       "    <tr>\n",
       "      <th>333</th>\n",
       "      <td>76</td>\n",
       "      <td>FEMALE</td>\n",
       "      <td>-0.244270</td>\n",
       "      <td>0.92556</td>\n",
       "      <td>-0.41823</td>\n",
       "      <td>-0.067848</td>\n",
       "      <td>I</td>\n",
       "      <td>Infiltrating Ductal Carcinoma</td>\n",
       "      <td>Positive</td>\n",
       "      <td>Positive</td>\n",
       "      <td>Negative</td>\n",
       "      <td>Lumpectomy</td>\n",
       "      <td>Dead</td>\n",
       "    </tr>\n",
       "  </tbody>\n",
       "</table>\n",
       "<p>317 rows × 13 columns</p>\n",
       "</div>"
      ],
      "text/plain": [
       "     Age  Gender  Protein1  Protein2  Protein3  Protein4 Tumour_Stage  \\\n",
       "0     36  FEMALE  0.080353   0.42638   0.54715  0.273680          III   \n",
       "1     43  FEMALE -0.420320   0.57807   0.61447 -0.031505           II   \n",
       "2     69  FEMALE  0.213980   1.31140  -0.32747 -0.234260          III   \n",
       "3     56  FEMALE  0.345090  -0.21147  -0.19304  0.124270           II   \n",
       "4     56  FEMALE  0.221550   1.90680   0.52045 -0.311990           II   \n",
       "..   ...     ...       ...       ...       ...       ...          ...   \n",
       "329   36  FEMALE  0.231800   0.61804  -0.55779 -0.517350          III   \n",
       "330   44    MALE  0.732720   1.11170  -0.26952 -0.354920           II   \n",
       "331   61  FEMALE -0.719470   2.54850  -0.15024  0.339680           II   \n",
       "332   79  FEMALE  0.479400   2.05590  -0.53136 -0.188480            I   \n",
       "333   76  FEMALE -0.244270   0.92556  -0.41823 -0.067848            I   \n",
       "\n",
       "                          Histology ER status PR status HER2 status  \\\n",
       "0     Infiltrating Ductal Carcinoma  Positive  Positive    Negative   \n",
       "1                Mucinous Carcinoma  Positive  Positive    Negative   \n",
       "2     Infiltrating Ductal Carcinoma  Positive  Positive    Negative   \n",
       "3     Infiltrating Ductal Carcinoma  Positive  Positive    Negative   \n",
       "4     Infiltrating Ductal Carcinoma  Positive  Positive    Negative   \n",
       "..                              ...       ...       ...         ...   \n",
       "329   Infiltrating Ductal Carcinoma  Positive  Positive    Positive   \n",
       "330  Infiltrating Lobular Carcinoma  Positive  Positive    Negative   \n",
       "331   Infiltrating Ductal Carcinoma  Positive  Positive    Negative   \n",
       "332   Infiltrating Ductal Carcinoma  Positive  Positive    Positive   \n",
       "333   Infiltrating Ductal Carcinoma  Positive  Positive    Negative   \n",
       "\n",
       "                    Surgery_type Patient_Status  \n",
       "0    Modified Radical Mastectomy          Alive  \n",
       "1                     Lumpectomy           Dead  \n",
       "2                          Other          Alive  \n",
       "3    Modified Radical Mastectomy          Alive  \n",
       "4                          Other           Dead  \n",
       "..                           ...            ...  \n",
       "329            Simple Mastectomy           Dead  \n",
       "330                        Other           Dead  \n",
       "331                   Lumpectomy           Dead  \n",
       "332                   Lumpectomy           Dead  \n",
       "333                   Lumpectomy           Dead  \n",
       "\n",
       "[317 rows x 13 columns]"
      ]
     },
     "execution_count": 132,
     "metadata": {},
     "output_type": "execute_result"
    }
   ],
   "source": [
    "#checking whether the columns are dropped or not.\n",
    "data"
   ]
  },
  {
   "cell_type": "raw",
   "id": "2cf8c78c",
   "metadata": {},
   "source": [
    "We can infer that the unrelevent and unwanted columns is removed from the dataset i.e.Patient_ID,Date_of_Surgery,Date_of_Last_Visit."
   ]
  },
  {
   "cell_type": "markdown",
   "id": "ed498a85",
   "metadata": {},
   "source": [
    "**OUTLIERS**\n",
    "Checking for the presence of outliers in numeric columns."
   ]
  },
  {
   "cell_type": "code",
   "execution_count": 133,
   "id": "2a3a4da3",
   "metadata": {},
   "outputs": [
    {
     "data": {
      "text/plain": [
       "<AxesSubplot:>"
      ]
     },
     "execution_count": 133,
     "metadata": {},
     "output_type": "execute_result"
    },
    {
     "data": {
      "image/png": "[encoded data removed]",
      "text/plain": [
       "<Figure size 504x504 with 1 Axes>"
      ]
     },
     "metadata": {
      "needs_background": "light"
     },
     "output_type": "display_data"
    }
   ],
   "source": [
    "plt.figure(figsize=(7,7))\n",
    "data.boxplot(column=[ 'Protein1', 'Protein2', 'Protein3', 'Protein4'])"
   ]
  },
  {
   "cell_type": "raw",
   "id": "b165fa7c",
   "metadata": {},
   "source": [
    "Protein1,Protein3,Protein4 has outliers.\n",
    "only Protein2 doesnot have any outliers."
   ]
  },
  {
   "cell_type": "code",
   "execution_count": 134,
   "id": "326ef964",
   "metadata": {},
   "outputs": [],
   "source": [
    "result =data[['Protein1','Protein2','Protein3','Protein4']]"
   ]
  },
  {
   "cell_type": "code",
   "execution_count": 135,
   "id": "46eb1f90",
   "metadata": {},
   "outputs": [
    {
     "name": "stdout",
     "output_type": "stream",
     "text": [
      "Outliers in Protein1 attribute : [-1.6828, -1.4872, -2.1446, 1.5936, -1.9711, -1.3882, 1.4704]\n",
      "Outliers in Protein2 attribute : []\n",
      "Outliers in Protein3 attribute : [1.7019, 1.7691, 1.6575, 2.1934, 1.507]\n",
      "Outliers in Protein4 attribute : [-2.0255, -1.7684, -1.8993, -1.7127]\n"
     ]
    }
   ],
   "source": [
    "# Finding values of outliers(IQR method)\n",
    "def detect_outliers_iqr(result):\n",
    "    outlier_list = []\n",
    "   \n",
    "    q1 = np.percentile(result, 25)\n",
    "    q3 = np.percentile(result, 75)\n",
    "    IQR = q3-q1\n",
    "    lwr_bound = q1-(1.5*IQR)\n",
    "    upr_bound = q3+(1.5*IQR)\n",
    "   \n",
    "    for i in result:\n",
    "        if (i<lwr_bound or i>upr_bound):\n",
    "            outlier_list.append(i)\n",
    "    return outlier_list \n",
    "for i in result:\n",
    "    outliers = detect_outliers_iqr(data[i])\n",
    "    print(\"Outliers in\",i,\"attribute :\", outliers)"
   ]
  },
  {
   "cell_type": "code",
   "execution_count": 136,
   "id": "759128df",
   "metadata": {},
   "outputs": [],
   "source": [
    "#Now we need to handle these outlier using Quantile based flooring and capping method \n",
    "def handle_outliers(result):\n",
    "    tenth_percentile = np.percentile(result, 10)\n",
    "    ninetieth_percentile = np.percentile(result, 90)\n",
    "    b = np.where(result<tenth_percentile, tenth_percentile, result)\n",
    "    b1 = np.where(b>ninetieth_percentile, ninetieth_percentile, b)\n",
    "    return b1\n",
    "for i in result:\n",
    "    data[i]=handle_outliers(data[i])"
   ]
  },
  {
   "cell_type": "code",
   "execution_count": 137,
   "id": "db6ebeb9",
   "metadata": {},
   "outputs": [
    {
     "data": {
      "text/plain": [
       "<AxesSubplot:>"
      ]
     },
     "execution_count": 137,
     "metadata": {},
     "output_type": "execute_result"
    },
    {
     "data": {
      "image/png": "[encoded data removed]",
      "text/plain": [
       "<Figure size 504x504 with 1 Axes>"
      ]
     },
     "metadata": {
      "needs_background": "light"
     },
     "output_type": "display_data"
    }
   ],
   "source": [
    "# verifying again with boxplot \n",
    "plt.figure(figsize=(7,7)) \n",
    "data.boxplot(column=[ 'Protein1', 'Protein2','Protein3','Protein4'])"
   ]
  },
  {
   "cell_type": "raw",
   "id": "881bf694",
   "metadata": {},
   "source": [
    "outliers are removed from the dataset,Now the data is completely cleaned."
   ]
  },
  {
   "cell_type": "markdown",
   "id": "d4a79c6a",
   "metadata": {},
   "source": [
    "***Step3-Data Visualization(analysis of relationship between variables/parameters/features)***\n",
    "In this section, we will get an idea about our patients by considering all the features separately, through graphs."
   ]
  },
  {
   "cell_type": "code",
   "execution_count": 138,
   "id": "714be2b1",
   "metadata": {},
   "outputs": [
    {
     "data": {
      "image/png": "[encoded data removed]",
      "text/plain": [
       "<Figure size 864x648 with 1 Axes>"
      ]
     },
     "metadata": {
      "needs_background": "light"
     },
     "output_type": "display_data"
    }
   ],
   "source": [
    "#Univariate Analysis \n",
    "#1)AGE\n",
    "plt.figure(figsize=(12,9))\n",
    "plt.hist(data['Age'].astype(int),width=4, align='mid',color='red') \n",
    "plt.xlabel('Ages') \n",
    "plt.title('Age range') \n",
    "plt.show()"
   ]
  },
  {
   "cell_type": "raw",
   "id": "35c6d024",
   "metadata": {},
   "source": [
    "Highest no of pateints suffering from breast cancer is between 50 to  60 age group."
   ]
  },
  {
   "cell_type": "code",
   "execution_count": 139,
   "id": "e47110bc",
   "metadata": {},
   "outputs": [
    {
     "data": {
      "text/plain": [
       "count        317\n",
       "unique         2\n",
       "top       FEMALE\n",
       "freq         313\n",
       "Name: Gender, dtype: object"
      ]
     },
     "execution_count": 139,
     "metadata": {},
     "output_type": "execute_result"
    }
   ],
   "source": [
    "#2)GENDER\n",
    "data.Gender.describe()"
   ]
  },
  {
   "cell_type": "code",
   "execution_count": 140,
   "id": "d73175e5",
   "metadata": {},
   "outputs": [
    {
     "data": {
      "image/png": "[encoded data removed]",
      "text/plain": [
       "<Figure size 432x288 with 1 Axes>"
      ]
     },
     "metadata": {
      "needs_background": "light"
     },
     "output_type": "display_data"
    }
   ],
   "source": [
    "data.Gender.value_counts().plot(kind='bar',title='Gender',legend=True,) \n",
    "plt.show()"
   ]
  },
  {
   "cell_type": "raw",
   "id": "15924a58",
   "metadata": {},
   "source": [
    "Females are suffering the most from the cancer.Females have highest number of count than males."
   ]
  },
  {
   "cell_type": "code",
   "execution_count": 141,
   "id": "dbbb32f3",
   "metadata": {},
   "outputs": [
    {
     "data": {
      "text/plain": [
       "count     317\n",
       "unique      3\n",
       "top        II\n",
       "freq      180\n",
       "Name: Tumour_Stage, dtype: object"
      ]
     },
     "execution_count": 141,
     "metadata": {},
     "output_type": "execute_result"
    }
   ],
   "source": [
    "#3)TUMOUR_STAGE\n",
    "data[\"Tumour_Stage\"].describe()#Description"
   ]
  },
  {
   "cell_type": "code",
   "execution_count": 142,
   "id": "0173b337",
   "metadata": {},
   "outputs": [
    {
     "data": {
      "text/plain": [
       "II     180\n",
       "III     77\n",
       "I       60\n",
       "Name: Tumour_Stage, dtype: int64"
      ]
     },
     "execution_count": 142,
     "metadata": {},
     "output_type": "execute_result"
    }
   ],
   "source": [
    "data[\"Tumour_Stage\"].value_counts()#count"
   ]
  },
  {
   "cell_type": "code",
   "execution_count": 143,
   "id": "0267dc0d",
   "metadata": {},
   "outputs": [
    {
     "data": {
      "image/png": "[encoded data removed]",
      "text/plain": [
       "<Figure size 360x360 with 1 Axes>"
      ]
     },
     "metadata": {},
     "output_type": "display_data"
    }
   ],
   "source": [
    "plt.figure(figsize=(5,5))\n",
    "plt.pie(data['Tumour_Stage'].value_counts(),autopct='%0.1f',labels=['Stage 2','Stage 3','Stage 1'])\n",
    "plt.title('Distribution of Tumour Stage of Patient')\n",
    "plt.legend(['II','III','I'],title='Tumour Stage')\n",
    "plt.show()"
   ]
  },
  {
   "cell_type": "raw",
   "id": "a08073df",
   "metadata": {},
   "source": [
    "Pateints are suffering II Tumour_stage the most,followed by III Tumour_stage cancer and I Tumour_stage cancer the least."
   ]
  },
  {
   "cell_type": "code",
   "execution_count": 144,
   "id": "7b9652ed",
   "metadata": {},
   "outputs": [
    {
     "data": {
      "text/plain": [
       "count                               317\n",
       "unique                                3\n",
       "top       Infiltrating Ductal Carcinoma\n",
       "freq                                224\n",
       "Name: Histology, dtype: object"
      ]
     },
     "execution_count": 144,
     "metadata": {},
     "output_type": "execute_result"
    }
   ],
   "source": [
    "#4)HISTOLOGY\n",
    "data[\"Histology\"].describe()"
   ]
  },
  {
   "cell_type": "code",
   "execution_count": 145,
   "id": "68134b27",
   "metadata": {},
   "outputs": [
    {
     "data": {
      "text/plain": [
       "Infiltrating Ductal Carcinoma     224\n",
       "Infiltrating Lobular Carcinoma     81\n",
       "Mucinous Carcinoma                 12\n",
       "Name: Histology, dtype: int64"
      ]
     },
     "execution_count": 145,
     "metadata": {},
     "output_type": "execute_result"
    }
   ],
   "source": [
    "data[\"Histology\"].value_counts()"
   ]
  },
  {
   "cell_type": "code",
   "execution_count": 146,
   "id": "8c50118a",
   "metadata": {},
   "outputs": [
    {
     "data": {
      "image/png": "[encoded data removed]",
      "text/plain": [
       "<Figure size 360x360 with 1 Axes>"
      ]
     },
     "metadata": {},
     "output_type": "display_data"
    }
   ],
   "source": [
    "plt.figure(figsize=(5,5))\n",
    "plt.pie(data['Histology'].value_counts(),autopct='%0.1f',labels=['Infiltrating Ductal Carcinoma','Infiltrating Lobular Carcinoma','Mucinous Carcinoma  '])\n",
    "plt.title('Histology of Patient')\n",
    "plt.legend(['Infiltrating Ductal Carcinoma','Infiltrating Lobular Carcinoma','Mucinous Carcinoma'],title='Histology')\n",
    "plt.show()"
   ]
  },
  {
   "cell_type": "markdown",
   "id": "67c18527",
   "metadata": {},
   "source": [
    "Most of the pateints have Infiltrating Ductal Carcinoma as there Histology, Mucinous Carcinoma the least."
   ]
  },
  {
   "cell_type": "code",
   "execution_count": 147,
   "id": "e6aa9519",
   "metadata": {},
   "outputs": [
    {
     "data": {
      "text/plain": [
       "count          317\n",
       "unique           1\n",
       "top       Positive\n",
       "freq           317\n",
       "Name: ER status, dtype: object"
      ]
     },
     "execution_count": 147,
     "metadata": {},
     "output_type": "execute_result"
    }
   ],
   "source": [
    "#5)ER STATUS\n",
    "data['ER status'].describe()"
   ]
  },
  {
   "cell_type": "code",
   "execution_count": 148,
   "id": "d2735db7",
   "metadata": {},
   "outputs": [
    {
     "data": {
      "text/plain": [
       "Positive    317\n",
       "Name: ER status, dtype: int64"
      ]
     },
     "execution_count": 148,
     "metadata": {},
     "output_type": "execute_result"
    }
   ],
   "source": [
    "data[\"ER status\"].value_counts()"
   ]
  },
  {
   "cell_type": "raw",
   "id": "ef1f882d",
   "metadata": {},
   "source": [
    "we cannot plot the graph because all the values are positive in ER status data."
   ]
  },
  {
   "cell_type": "code",
   "execution_count": 149,
   "id": "16c5bca3",
   "metadata": {},
   "outputs": [
    {
     "data": {
      "text/plain": [
       "count          317\n",
       "unique           1\n",
       "top       Positive\n",
       "freq           317\n",
       "Name: PR status, dtype: object"
      ]
     },
     "execution_count": 149,
     "metadata": {},
     "output_type": "execute_result"
    }
   ],
   "source": [
    "#6)PR STATUS\n",
    "data['PR status'].describe()"
   ]
  },
  {
   "cell_type": "code",
   "execution_count": 150,
   "id": "a3b6cbcb",
   "metadata": {},
   "outputs": [
    {
     "data": {
      "text/plain": [
       "count          317\n",
       "unique           1\n",
       "top       Positive\n",
       "freq           317\n",
       "Name: PR status, dtype: object"
      ]
     },
     "execution_count": 150,
     "metadata": {},
     "output_type": "execute_result"
    }
   ],
   "source": [
    "data['PR status'].describe()"
   ]
  },
  {
   "cell_type": "raw",
   "id": "283ed9da",
   "metadata": {},
   "source": [
    "we cannot plot the graph because all the values are positive in PR status data."
   ]
  },
  {
   "cell_type": "code",
   "execution_count": 151,
   "id": "303e299e",
   "metadata": {},
   "outputs": [
    {
     "data": {
      "text/plain": [
       "count          317\n",
       "unique           2\n",
       "top       Negative\n",
       "freq           288\n",
       "Name: HER2 status, dtype: object"
      ]
     },
     "execution_count": 151,
     "metadata": {},
     "output_type": "execute_result"
    }
   ],
   "source": [
    "#7)HER2 STATUS\n",
    "data['HER2 status'].describe()"
   ]
  },
  {
   "cell_type": "code",
   "execution_count": 152,
   "id": "cc37549d",
   "metadata": {},
   "outputs": [
    {
     "data": {
      "text/plain": [
       "Negative    288\n",
       "Positive     29\n",
       "Name: HER2 status, dtype: int64"
      ]
     },
     "execution_count": 152,
     "metadata": {},
     "output_type": "execute_result"
    }
   ],
   "source": [
    "data['HER2 status'].value_counts()"
   ]
  },
  {
   "cell_type": "code",
   "execution_count": 153,
   "id": "3a6b353d",
   "metadata": {},
   "outputs": [
    {
     "data": {
      "image/png": "[encoded data removed]",
      "text/plain": [
       "<Figure size 360x360 with 1 Axes>"
      ]
     },
     "metadata": {},
     "output_type": "display_data"
    }
   ],
   "source": [
    "plt.figure(figsize=(5,5))\n",
    "plt.pie(data['HER2 status'].value_counts(),autopct='%0.1f',labels=['Negative','Positive'])\n",
    "plt.title('HER2 status of Patient')\n",
    "plt.legend(['Negative','Positive'],title='HER2 status')\n",
    "plt.show()"
   ]
  },
  {
   "cell_type": "markdown",
   "id": "07bdb180",
   "metadata": {},
   "source": [
    "HER2 status is Negetive of more than 90% of the pateints."
   ]
  },
  {
   "cell_type": "code",
   "execution_count": 154,
   "id": "8f002741",
   "metadata": {},
   "outputs": [
    {
     "data": {
      "text/plain": [
       "count       317\n",
       "unique        4\n",
       "top       Other\n",
       "freq         97\n",
       "Name: Surgery_type, dtype: object"
      ]
     },
     "execution_count": 154,
     "metadata": {},
     "output_type": "execute_result"
    }
   ],
   "source": [
    "#8)SURGERY_TYPE\n",
    "data['Surgery_type'].describe()"
   ]
  },
  {
   "cell_type": "code",
   "execution_count": 155,
   "id": "172c0eef",
   "metadata": {},
   "outputs": [
    {
     "data": {
      "text/plain": [
       "Other                          97\n",
       "Modified Radical Mastectomy    89\n",
       "Lumpectomy                     66\n",
       "Simple Mastectomy              65\n",
       "Name: Surgery_type, dtype: int64"
      ]
     },
     "execution_count": 155,
     "metadata": {},
     "output_type": "execute_result"
    }
   ],
   "source": [
    "data['Surgery_type'].value_counts()"
   ]
  },
  {
   "cell_type": "code",
   "execution_count": 156,
   "id": "43648616",
   "metadata": {},
   "outputs": [
    {
     "data": {
      "image/png": "[encoded data removed]",
      "text/plain": [
       "<Figure size 360x360 with 1 Axes>"
      ]
     },
     "metadata": {},
     "output_type": "display_data"
    }
   ],
   "source": [
    "plt.figure(figsize=(5,5))\n",
    "plt.pie(data['Surgery_type'].value_counts(),autopct='%0.1f',labels=['Other','Modified Radical Mastectomy','Simple Mastectomy','Lumpectomy'])\n",
    "plt.title('Surgery_type of Patient')\n",
    "plt.legend(['Other','Modified Radical Mastectomy','Simple Mastectomy','Lumpectomy'],title='Surgery_type')\n",
    "plt.show()"
   ]
  },
  {
   "cell_type": "raw",
   "id": "9089eb76",
   "metadata": {},
   "source": [
    "Pateints choses other ways as surgery option than other three, lumpectomy has the least choice."
   ]
  },
  {
   "cell_type": "code",
   "execution_count": 157,
   "id": "0b3b4c8d",
   "metadata": {},
   "outputs": [
    {
     "data": {
      "text/plain": [
       "count       317\n",
       "unique        2\n",
       "top       Alive\n",
       "freq        255\n",
       "Name: Patient_Status, dtype: object"
      ]
     },
     "execution_count": 157,
     "metadata": {},
     "output_type": "execute_result"
    }
   ],
   "source": [
    "#9)PATEINT STATUS\n",
    "data['Patient_Status'].describe()"
   ]
  },
  {
   "cell_type": "code",
   "execution_count": 158,
   "id": "49bcbf0b",
   "metadata": {},
   "outputs": [
    {
     "data": {
      "text/plain": [
       "Alive    255\n",
       "Dead      62\n",
       "Name: Patient_Status, dtype: int64"
      ]
     },
     "execution_count": 158,
     "metadata": {},
     "output_type": "execute_result"
    }
   ],
   "source": [
    "data['Patient_Status'].value_counts()"
   ]
  },
  {
   "cell_type": "code",
   "execution_count": 159,
   "id": "f8fe80ac",
   "metadata": {},
   "outputs": [
    {
     "data": {
      "image/png": "[encoded data removed]",
      "text/plain": [
       "<Figure size 360x360 with 1 Axes>"
      ]
     },
     "metadata": {},
     "output_type": "display_data"
    }
   ],
   "source": [
    "plt.figure(figsize=(5,5))\n",
    "plt.pie(data['Patient_Status'].value_counts(),autopct='%0.1f',labels=['Alive','Dead'])\n",
    "plt.title('Patient status of Patient')\n",
    "plt.legend(['Alive','Dead'],title='Patient_Status')\n",
    "plt.show()"
   ]
  },
  {
   "cell_type": "markdown",
   "id": "6ff43a22",
   "metadata": {},
   "source": [
    "ALive rate of the Patients is more than the death rate."
   ]
  },
  {
   "cell_type": "code",
   "execution_count": 160,
   "id": "e3cdee4b",
   "metadata": {},
   "outputs": [
    {
     "data": {
      "text/html": [
       "<div>\n",
       "<style scoped>\n",
       "    .dataframe tbody tr th:only-of-type {\n",
       "        vertical-align: middle;\n",
       "    }\n",
       "\n",
       "    .dataframe tbody tr th {\n",
       "        vertical-align: top;\n",
       "    }\n",
       "\n",
       "    .dataframe thead th {\n",
       "        text-align: right;\n",
       "    }\n",
       "</style>\n",
       "<table border=\"1\" class=\"dataframe\">\n",
       "  <thead>\n",
       "    <tr style=\"text-align: right;\">\n",
       "      <th>Gender</th>\n",
       "      <th>FEMALE</th>\n",
       "      <th>MALE</th>\n",
       "    </tr>\n",
       "    <tr>\n",
       "      <th>Tumour_Stage</th>\n",
       "      <th></th>\n",
       "      <th></th>\n",
       "    </tr>\n",
       "  </thead>\n",
       "  <tbody>\n",
       "    <tr>\n",
       "      <th>I</th>\n",
       "      <td>60</td>\n",
       "      <td>0</td>\n",
       "    </tr>\n",
       "    <tr>\n",
       "      <th>II</th>\n",
       "      <td>177</td>\n",
       "      <td>3</td>\n",
       "    </tr>\n",
       "    <tr>\n",
       "      <th>III</th>\n",
       "      <td>76</td>\n",
       "      <td>1</td>\n",
       "    </tr>\n",
       "  </tbody>\n",
       "</table>\n",
       "</div>"
      ],
      "text/plain": [
       "Gender        FEMALE  MALE\n",
       "Tumour_Stage              \n",
       "I                 60     0\n",
       "II               177     3\n",
       "III               76     1"
      ]
     },
     "execution_count": 160,
     "metadata": {},
     "output_type": "execute_result"
    }
   ],
   "source": [
    "#Bivariate Analysis\n",
    "#1)Relationship of Gender and Tumour_Stage\n",
    "table=pd.crosstab(data['Tumour_Stage'],data['Gender']) \n",
    "table"
   ]
  },
  {
   "cell_type": "code",
   "execution_count": 161,
   "id": "9577c728",
   "metadata": {},
   "outputs": [
    {
     "data": {
      "text/plain": [
       "<AxesSubplot:xlabel='Tumour_Stage'>"
      ]
     },
     "execution_count": 161,
     "metadata": {},
     "output_type": "execute_result"
    },
    {
     "data": {
      "image/png": "[encoded data removed]",
      "text/plain": [
       "<Figure size 432x288 with 1 Axes>"
      ]
     },
     "metadata": {
      "needs_background": "light"
     },
     "output_type": "display_data"
    }
   ],
   "source": [
    "table.plot(kind='bar')"
   ]
  },
  {
   "cell_type": "raw",
   "id": "ce8a9043",
   "metadata": {},
   "source": [
    "From this graph we can infer that most no. of Females have II stage cancer."
   ]
  },
  {
   "cell_type": "code",
   "execution_count": 162,
   "id": "5e19bd77",
   "metadata": {},
   "outputs": [
    {
     "data": {
      "text/html": [
       "<div>\n",
       "<style scoped>\n",
       "    .dataframe tbody tr th:only-of-type {\n",
       "        vertical-align: middle;\n",
       "    }\n",
       "\n",
       "    .dataframe tbody tr th {\n",
       "        vertical-align: top;\n",
       "    }\n",
       "\n",
       "    .dataframe thead th {\n",
       "        text-align: right;\n",
       "    }\n",
       "</style>\n",
       "<table border=\"1\" class=\"dataframe\">\n",
       "  <thead>\n",
       "    <tr style=\"text-align: right;\">\n",
       "      <th>Gender</th>\n",
       "      <th>FEMALE</th>\n",
       "      <th>MALE</th>\n",
       "    </tr>\n",
       "    <tr>\n",
       "      <th>Histology</th>\n",
       "      <th></th>\n",
       "      <th></th>\n",
       "    </tr>\n",
       "  </thead>\n",
       "  <tbody>\n",
       "    <tr>\n",
       "      <th>Infiltrating Ductal Carcinoma</th>\n",
       "      <td>222</td>\n",
       "      <td>2</td>\n",
       "    </tr>\n",
       "    <tr>\n",
       "      <th>Infiltrating Lobular Carcinoma</th>\n",
       "      <td>79</td>\n",
       "      <td>2</td>\n",
       "    </tr>\n",
       "    <tr>\n",
       "      <th>Mucinous Carcinoma</th>\n",
       "      <td>12</td>\n",
       "      <td>0</td>\n",
       "    </tr>\n",
       "  </tbody>\n",
       "</table>\n",
       "</div>"
      ],
      "text/plain": [
       "Gender                          FEMALE  MALE\n",
       "Histology                                   \n",
       "Infiltrating Ductal Carcinoma      222     2\n",
       "Infiltrating Lobular Carcinoma      79     2\n",
       "Mucinous Carcinoma                  12     0"
      ]
     },
     "execution_count": 162,
     "metadata": {},
     "output_type": "execute_result"
    }
   ],
   "source": [
    "#2)Relationship of gender and Histology\n",
    "table1=pd.crosstab(data['Histology'],data['Gender']) \n",
    "table1"
   ]
  },
  {
   "cell_type": "code",
   "execution_count": 163,
   "id": "92157f4d",
   "metadata": {},
   "outputs": [
    {
     "data": {
      "text/plain": [
       "<AxesSubplot:xlabel='Histology'>"
      ]
     },
     "execution_count": 163,
     "metadata": {},
     "output_type": "execute_result"
    },
    {
     "data": {
      "image/png": "[encoded data removed]",
      "text/plain": [
       "<Figure size 432x288 with 1 Axes>"
      ]
     },
     "metadata": {
      "needs_background": "light"
     },
     "output_type": "display_data"
    }
   ],
   "source": [
    "table1.plot(kind='bar')"
   ]
  },
  {
   "cell_type": "raw",
   "id": "118fc6ca",
   "metadata": {},
   "source": [
    "From this graph we can infer that most females has Infiltrating Ductal Carcinoma as the histology factor in the cancer cause."
   ]
  },
  {
   "cell_type": "code",
   "execution_count": 164,
   "id": "0badbc88",
   "metadata": {},
   "outputs": [
    {
     "data": {
      "text/html": [
       "<div>\n",
       "<style scoped>\n",
       "    .dataframe tbody tr th:only-of-type {\n",
       "        vertical-align: middle;\n",
       "    }\n",
       "\n",
       "    .dataframe tbody tr th {\n",
       "        vertical-align: top;\n",
       "    }\n",
       "\n",
       "    .dataframe thead th {\n",
       "        text-align: right;\n",
       "    }\n",
       "</style>\n",
       "<table border=\"1\" class=\"dataframe\">\n",
       "  <thead>\n",
       "    <tr style=\"text-align: right;\">\n",
       "      <th>Gender</th>\n",
       "      <th>FEMALE</th>\n",
       "      <th>MALE</th>\n",
       "    </tr>\n",
       "    <tr>\n",
       "      <th>Surgery_type</th>\n",
       "      <th></th>\n",
       "      <th></th>\n",
       "    </tr>\n",
       "  </thead>\n",
       "  <tbody>\n",
       "    <tr>\n",
       "      <th>Lumpectomy</th>\n",
       "      <td>66</td>\n",
       "      <td>0</td>\n",
       "    </tr>\n",
       "    <tr>\n",
       "      <th>Modified Radical Mastectomy</th>\n",
       "      <td>87</td>\n",
       "      <td>2</td>\n",
       "    </tr>\n",
       "    <tr>\n",
       "      <th>Other</th>\n",
       "      <td>96</td>\n",
       "      <td>1</td>\n",
       "    </tr>\n",
       "    <tr>\n",
       "      <th>Simple Mastectomy</th>\n",
       "      <td>64</td>\n",
       "      <td>1</td>\n",
       "    </tr>\n",
       "  </tbody>\n",
       "</table>\n",
       "</div>"
      ],
      "text/plain": [
       "Gender                       FEMALE  MALE\n",
       "Surgery_type                             \n",
       "Lumpectomy                       66     0\n",
       "Modified Radical Mastectomy      87     2\n",
       "Other                            96     1\n",
       "Simple Mastectomy                64     1"
      ]
     },
     "execution_count": 164,
     "metadata": {},
     "output_type": "execute_result"
    }
   ],
   "source": [
    "#3)Relationship of Gender and Surgery_type\n",
    "table2=pd.crosstab(data['Surgery_type'],data['Gender']) \n",
    "table2"
   ]
  },
  {
   "cell_type": "code",
   "execution_count": 165,
   "id": "06d961b0",
   "metadata": {},
   "outputs": [
    {
     "data": {
      "text/plain": [
       "<AxesSubplot:xlabel='Surgery_type'>"
      ]
     },
     "execution_count": 165,
     "metadata": {},
     "output_type": "execute_result"
    },
    {
     "data": {
      "image/png": "[encoded data removed]",
      "text/plain": [
       "<Figure size 432x288 with 1 Axes>"
      ]
     },
     "metadata": {
      "needs_background": "light"
     },
     "output_type": "display_data"
    }
   ],
   "source": [
    "table2.plot(kind='bar')"
   ]
  },
  {
   "cell_type": "raw",
   "id": "e8f009a3",
   "metadata": {},
   "source": [
    "From this graph we can infer that females opt other surgery_type as their choice than other types."
   ]
  },
  {
   "cell_type": "code",
   "execution_count": 166,
   "id": "e562d096",
   "metadata": {},
   "outputs": [
    {
     "data": {
      "text/html": [
       "<div>\n",
       "<style scoped>\n",
       "    .dataframe tbody tr th:only-of-type {\n",
       "        vertical-align: middle;\n",
       "    }\n",
       "\n",
       "    .dataframe tbody tr th {\n",
       "        vertical-align: top;\n",
       "    }\n",
       "\n",
       "    .dataframe thead th {\n",
       "        text-align: right;\n",
       "    }\n",
       "</style>\n",
       "<table border=\"1\" class=\"dataframe\">\n",
       "  <thead>\n",
       "    <tr style=\"text-align: right;\">\n",
       "      <th>Gender</th>\n",
       "      <th>FEMALE</th>\n",
       "      <th>MALE</th>\n",
       "    </tr>\n",
       "    <tr>\n",
       "      <th>Patient_Status</th>\n",
       "      <th></th>\n",
       "      <th></th>\n",
       "    </tr>\n",
       "  </thead>\n",
       "  <tbody>\n",
       "    <tr>\n",
       "      <th>Alive</th>\n",
       "      <td>252</td>\n",
       "      <td>3</td>\n",
       "    </tr>\n",
       "    <tr>\n",
       "      <th>Dead</th>\n",
       "      <td>61</td>\n",
       "      <td>1</td>\n",
       "    </tr>\n",
       "  </tbody>\n",
       "</table>\n",
       "</div>"
      ],
      "text/plain": [
       "Gender          FEMALE  MALE\n",
       "Patient_Status              \n",
       "Alive              252     3\n",
       "Dead                61     1"
      ]
     },
     "execution_count": 166,
     "metadata": {},
     "output_type": "execute_result"
    }
   ],
   "source": [
    "#4)Relationship of Gender and Patient_Status \n",
    "table3=pd.crosstab(data['Patient_Status'],data['Gender']) \n",
    "table3"
   ]
  },
  {
   "cell_type": "code",
   "execution_count": 167,
   "id": "0bad0eb5",
   "metadata": {},
   "outputs": [
    {
     "data": {
      "text/plain": [
       "<AxesSubplot:xlabel='Patient_Status'>"
      ]
     },
     "execution_count": 167,
     "metadata": {},
     "output_type": "execute_result"
    },
    {
     "data": {
      "image/png": "[encoded data removed]",
      "text/plain": [
       "<Figure size 432x288 with 1 Axes>"
      ]
     },
     "metadata": {
      "needs_background": "light"
     },
     "output_type": "display_data"
    }
   ],
   "source": [
    "table3.plot(kind='bar')"
   ]
  },
  {
   "cell_type": "raw",
   "id": "feb60d5a",
   "metadata": {},
   "source": [
    "According to this graph survival rate of females is more than the death rate."
   ]
  },
  {
   "cell_type": "code",
   "execution_count": 168,
   "id": "f478638a",
   "metadata": {},
   "outputs": [
    {
     "data": {
      "text/html": [
       "<div>\n",
       "<style scoped>\n",
       "    .dataframe tbody tr th:only-of-type {\n",
       "        vertical-align: middle;\n",
       "    }\n",
       "\n",
       "    .dataframe tbody tr th {\n",
       "        vertical-align: top;\n",
       "    }\n",
       "\n",
       "    .dataframe thead th {\n",
       "        text-align: right;\n",
       "    }\n",
       "</style>\n",
       "<table border=\"1\" class=\"dataframe\">\n",
       "  <thead>\n",
       "    <tr style=\"text-align: right;\">\n",
       "      <th>Patient_Status</th>\n",
       "      <th>Alive</th>\n",
       "      <th>Dead</th>\n",
       "    </tr>\n",
       "    <tr>\n",
       "      <th>Tumour_Stage</th>\n",
       "      <th></th>\n",
       "      <th></th>\n",
       "    </tr>\n",
       "  </thead>\n",
       "  <tbody>\n",
       "    <tr>\n",
       "      <th>I</th>\n",
       "      <td>51</td>\n",
       "      <td>9</td>\n",
       "    </tr>\n",
       "    <tr>\n",
       "      <th>II</th>\n",
       "      <td>144</td>\n",
       "      <td>36</td>\n",
       "    </tr>\n",
       "    <tr>\n",
       "      <th>III</th>\n",
       "      <td>60</td>\n",
       "      <td>17</td>\n",
       "    </tr>\n",
       "  </tbody>\n",
       "</table>\n",
       "</div>"
      ],
      "text/plain": [
       "Patient_Status  Alive  Dead\n",
       "Tumour_Stage               \n",
       "I                  51     9\n",
       "II                144    36\n",
       "III                60    17"
      ]
     },
     "execution_count": 168,
     "metadata": {},
     "output_type": "execute_result"
    }
   ],
   "source": [
    "#5)Relationship of Tumour_Stage and Patient_Status \n",
    "table4=pd.crosstab(data['Tumour_Stage'],data['Patient_Status']) \n",
    "table4"
   ]
  },
  {
   "cell_type": "code",
   "execution_count": 169,
   "id": "e231d3b3",
   "metadata": {},
   "outputs": [
    {
     "data": {
      "text/plain": [
       "<AxesSubplot:xlabel='Tumour_Stage'>"
      ]
     },
     "execution_count": 169,
     "metadata": {},
     "output_type": "execute_result"
    },
    {
     "data": {
      "image/png": "[encoded data removed]",
      "text/plain": [
       "<Figure size 432x288 with 1 Axes>"
      ]
     },
     "metadata": {
      "needs_background": "light"
     },
     "output_type": "display_data"
    }
   ],
   "source": [
    "table4.plot(kind='bar')"
   ]
  },
  {
   "cell_type": "raw",
   "id": "08a3cdd7",
   "metadata": {},
   "source": [
    "From this graph we can conclude that survival rate of II stage cancer is the most."
   ]
  },
  {
   "cell_type": "code",
   "execution_count": 170,
   "id": "07e1577a",
   "metadata": {},
   "outputs": [
    {
     "data": {
      "text/html": [
       "<div>\n",
       "<style scoped>\n",
       "    .dataframe tbody tr th:only-of-type {\n",
       "        vertical-align: middle;\n",
       "    }\n",
       "\n",
       "    .dataframe tbody tr th {\n",
       "        vertical-align: top;\n",
       "    }\n",
       "\n",
       "    .dataframe thead th {\n",
       "        text-align: right;\n",
       "    }\n",
       "</style>\n",
       "<table border=\"1\" class=\"dataframe\">\n",
       "  <thead>\n",
       "    <tr style=\"text-align: right;\">\n",
       "      <th>Patient_Status</th>\n",
       "      <th>Alive</th>\n",
       "      <th>Dead</th>\n",
       "    </tr>\n",
       "    <tr>\n",
       "      <th>Histology</th>\n",
       "      <th></th>\n",
       "      <th></th>\n",
       "    </tr>\n",
       "  </thead>\n",
       "  <tbody>\n",
       "    <tr>\n",
       "      <th>Infiltrating Ductal Carcinoma</th>\n",
       "      <td>179</td>\n",
       "      <td>45</td>\n",
       "    </tr>\n",
       "    <tr>\n",
       "      <th>Infiltrating Lobular Carcinoma</th>\n",
       "      <td>67</td>\n",
       "      <td>14</td>\n",
       "    </tr>\n",
       "    <tr>\n",
       "      <th>Mucinous Carcinoma</th>\n",
       "      <td>9</td>\n",
       "      <td>3</td>\n",
       "    </tr>\n",
       "  </tbody>\n",
       "</table>\n",
       "</div>"
      ],
      "text/plain": [
       "Patient_Status                  Alive  Dead\n",
       "Histology                                  \n",
       "Infiltrating Ductal Carcinoma     179    45\n",
       "Infiltrating Lobular Carcinoma     67    14\n",
       "Mucinous Carcinoma                  9     3"
      ]
     },
     "execution_count": 170,
     "metadata": {},
     "output_type": "execute_result"
    }
   ],
   "source": [
    "#6)Relationship of Histology and Patient_Status \n",
    "table5=pd.crosstab(data['Histology'],data['Patient_Status']) \n",
    "table5"
   ]
  },
  {
   "cell_type": "code",
   "execution_count": 171,
   "id": "5c67def1",
   "metadata": {},
   "outputs": [
    {
     "data": {
      "text/plain": [
       "<AxesSubplot:xlabel='Histology'>"
      ]
     },
     "execution_count": 171,
     "metadata": {},
     "output_type": "execute_result"
    },
    {
     "data": {
      "image/png": "[encoded data removed]",
      "text/plain": [
       "<Figure size 432x288 with 1 Axes>"
      ]
     },
     "metadata": {
      "needs_background": "light"
     },
     "output_type": "display_data"
    }
   ],
   "source": [
    "table5.plot(kind='bar')"
   ]
  },
  {
   "cell_type": "raw",
   "id": "082c2f37",
   "metadata": {},
   "source": [
    "From this graph we can infer that death rate as well as survival rate of the pateints is most in Infiltrating Ductal Carcinoma."
   ]
  },
  {
   "cell_type": "code",
   "execution_count": 172,
   "id": "9c949985",
   "metadata": {},
   "outputs": [
    {
     "data": {
      "text/html": [
       "<div>\n",
       "<style scoped>\n",
       "    .dataframe tbody tr th:only-of-type {\n",
       "        vertical-align: middle;\n",
       "    }\n",
       "\n",
       "    .dataframe tbody tr th {\n",
       "        vertical-align: top;\n",
       "    }\n",
       "\n",
       "    .dataframe thead th {\n",
       "        text-align: right;\n",
       "    }\n",
       "</style>\n",
       "<table border=\"1\" class=\"dataframe\">\n",
       "  <thead>\n",
       "    <tr style=\"text-align: right;\">\n",
       "      <th>Patient_Status</th>\n",
       "      <th>Alive</th>\n",
       "      <th>Dead</th>\n",
       "    </tr>\n",
       "    <tr>\n",
       "      <th>Surgery_type</th>\n",
       "      <th></th>\n",
       "      <th></th>\n",
       "    </tr>\n",
       "  </thead>\n",
       "  <tbody>\n",
       "    <tr>\n",
       "      <th>Lumpectomy</th>\n",
       "      <td>57</td>\n",
       "      <td>9</td>\n",
       "    </tr>\n",
       "    <tr>\n",
       "      <th>Modified Radical Mastectomy</th>\n",
       "      <td>72</td>\n",
       "      <td>17</td>\n",
       "    </tr>\n",
       "    <tr>\n",
       "      <th>Other</th>\n",
       "      <td>73</td>\n",
       "      <td>24</td>\n",
       "    </tr>\n",
       "    <tr>\n",
       "      <th>Simple Mastectomy</th>\n",
       "      <td>53</td>\n",
       "      <td>12</td>\n",
       "    </tr>\n",
       "  </tbody>\n",
       "</table>\n",
       "</div>"
      ],
      "text/plain": [
       "Patient_Status               Alive  Dead\n",
       "Surgery_type                            \n",
       "Lumpectomy                      57     9\n",
       "Modified Radical Mastectomy     72    17\n",
       "Other                           73    24\n",
       "Simple Mastectomy               53    12"
      ]
     },
     "execution_count": 172,
     "metadata": {},
     "output_type": "execute_result"
    }
   ],
   "source": [
    "#7)Relationship of Surgery_type and Patient_Status \n",
    "table6=pd.crosstab(data['Surgery_type'],data['Patient_Status']) \n",
    "table6"
   ]
  },
  {
   "cell_type": "code",
   "execution_count": 173,
   "id": "2fba8b43",
   "metadata": {},
   "outputs": [
    {
     "data": {
      "text/plain": [
       "<AxesSubplot:xlabel='Surgery_type'>"
      ]
     },
     "execution_count": 173,
     "metadata": {},
     "output_type": "execute_result"
    },
    {
     "data": {
      "image/png": "[encoded data removed]",
      "text/plain": [
       "<Figure size 432x288 with 1 Axes>"
      ]
     },
     "metadata": {
      "needs_background": "light"
     },
     "output_type": "display_data"
    }
   ],
   "source": [
    "table6.plot(kind='bar')"
   ]
  },
  {
   "cell_type": "raw",
   "id": "895768ba",
   "metadata": {},
   "source": [
    "From this graph we can infer that most of the pateints opt other surgery_type and survial rate is high than other surgery types."
   ]
  },
  {
   "cell_type": "code",
   "execution_count": 174,
   "id": "300c5308",
   "metadata": {},
   "outputs": [
    {
     "data": {
      "text/html": [
       "<div>\n",
       "<style scoped>\n",
       "    .dataframe tbody tr th:only-of-type {\n",
       "        vertical-align: middle;\n",
       "    }\n",
       "\n",
       "    .dataframe tbody tr th {\n",
       "        vertical-align: top;\n",
       "    }\n",
       "\n",
       "    .dataframe thead th {\n",
       "        text-align: right;\n",
       "    }\n",
       "</style>\n",
       "<table border=\"1\" class=\"dataframe\">\n",
       "  <thead>\n",
       "    <tr style=\"text-align: right;\">\n",
       "      <th></th>\n",
       "      <th>Age</th>\n",
       "      <th>Protein1</th>\n",
       "      <th>Protein2</th>\n",
       "      <th>Protein3</th>\n",
       "      <th>Protein4</th>\n",
       "    </tr>\n",
       "  </thead>\n",
       "  <tbody>\n",
       "    <tr>\n",
       "      <th>Age</th>\n",
       "      <td>1.000000</td>\n",
       "      <td>-0.013576</td>\n",
       "      <td>-0.016557</td>\n",
       "      <td>-0.038233</td>\n",
       "      <td>0.075576</td>\n",
       "    </tr>\n",
       "    <tr>\n",
       "      <th>Protein1</th>\n",
       "      <td>-0.013576</td>\n",
       "      <td>1.000000</td>\n",
       "      <td>0.221397</td>\n",
       "      <td>-0.108978</td>\n",
       "      <td>0.217301</td>\n",
       "    </tr>\n",
       "    <tr>\n",
       "      <th>Protein2</th>\n",
       "      <td>-0.016557</td>\n",
       "      <td>0.221397</td>\n",
       "      <td>1.000000</td>\n",
       "      <td>-0.400145</td>\n",
       "      <td>0.086136</td>\n",
       "    </tr>\n",
       "    <tr>\n",
       "      <th>Protein3</th>\n",
       "      <td>-0.038233</td>\n",
       "      <td>-0.108978</td>\n",
       "      <td>-0.400145</td>\n",
       "      <td>1.000000</td>\n",
       "      <td>0.084890</td>\n",
       "    </tr>\n",
       "    <tr>\n",
       "      <th>Protein4</th>\n",
       "      <td>0.075576</td>\n",
       "      <td>0.217301</td>\n",
       "      <td>0.086136</td>\n",
       "      <td>0.084890</td>\n",
       "      <td>1.000000</td>\n",
       "    </tr>\n",
       "  </tbody>\n",
       "</table>\n",
       "</div>"
      ],
      "text/plain": [
       "               Age  Protein1  Protein2  Protein3  Protein4\n",
       "Age       1.000000 -0.013576 -0.016557 -0.038233  0.075576\n",
       "Protein1 -0.013576  1.000000  0.221397 -0.108978  0.217301\n",
       "Protein2 -0.016557  0.221397  1.000000 -0.400145  0.086136\n",
       "Protein3 -0.038233 -0.108978 -0.400145  1.000000  0.084890\n",
       "Protein4  0.075576  0.217301  0.086136  0.084890  1.000000"
      ]
     },
     "execution_count": 174,
     "metadata": {},
     "output_type": "execute_result"
    }
   ],
   "source": [
    "#Multivariate Analysis\n",
    "# Finding out the correlation between the features\n",
    "corr = data.corr()\n",
    "corr"
   ]
  },
  {
   "cell_type": "code",
   "execution_count": 175,
   "id": "a4fb642a",
   "metadata": {},
   "outputs": [
    {
     "data": {
      "text/plain": [
       "(5, 5)"
      ]
     },
     "execution_count": 175,
     "metadata": {},
     "output_type": "execute_result"
    }
   ],
   "source": [
    "corr.shape"
   ]
  },
  {
   "cell_type": "code",
   "execution_count": 176,
   "id": "1289d90b",
   "metadata": {},
   "outputs": [
    {
     "data": {
      "image/png": "[encoded data removed]",
      "text/plain": [
       "<Figure size 504x504 with 2 Axes>"
      ]
     },
     "metadata": {
      "needs_background": "light"
     },
     "output_type": "display_data"
    }
   ],
   "source": [
    "# Plotting the heatmap of correlation between features\n",
    "plt.figure(figsize=(7,7))\n",
    "dataplot=sns.heatmap(data.corr(),annot=True) \n",
    "plt.show()"
   ]
  },
  {
   "cell_type": "raw",
   "id": "76806d6a",
   "metadata": {},
   "source": [
    "This graphs shows the relation between numerical values of the dataset with themself as well as with other features,showing how much they are interrelated with each other. "
   ]
  },
  {
   "cell_type": "code",
   "execution_count": 177,
   "id": "8906ae76",
   "metadata": {},
   "outputs": [
    {
     "data": {
      "text/html": [
       "<div>\n",
       "<style scoped>\n",
       "    .dataframe tbody tr th:only-of-type {\n",
       "        vertical-align: middle;\n",
       "    }\n",
       "\n",
       "    .dataframe tbody tr th {\n",
       "        vertical-align: top;\n",
       "    }\n",
       "\n",
       "    .dataframe thead th {\n",
       "        text-align: right;\n",
       "    }\n",
       "</style>\n",
       "<table border=\"1\" class=\"dataframe\">\n",
       "  <thead>\n",
       "    <tr style=\"text-align: right;\">\n",
       "      <th></th>\n",
       "      <th>Age</th>\n",
       "      <th>Gender</th>\n",
       "      <th>Protein1</th>\n",
       "      <th>Protein2</th>\n",
       "      <th>Protein3</th>\n",
       "      <th>Protein4</th>\n",
       "      <th>Tumour_Stage</th>\n",
       "      <th>Histology</th>\n",
       "      <th>ER status</th>\n",
       "      <th>PR status</th>\n",
       "      <th>HER2 status</th>\n",
       "      <th>Surgery_type</th>\n",
       "      <th>Patient_Status</th>\n",
       "    </tr>\n",
       "  </thead>\n",
       "  <tbody>\n",
       "    <tr>\n",
       "      <th>0</th>\n",
       "      <td>36</td>\n",
       "      <td>2</td>\n",
       "      <td>0.080353</td>\n",
       "      <td>0.42638</td>\n",
       "      <td>0.54715</td>\n",
       "      <td>0.273680</td>\n",
       "      <td>3</td>\n",
       "      <td>1</td>\n",
       "      <td>1</td>\n",
       "      <td>1</td>\n",
       "      <td>2</td>\n",
       "      <td>2</td>\n",
       "      <td>Alive</td>\n",
       "    </tr>\n",
       "    <tr>\n",
       "      <th>1</th>\n",
       "      <td>43</td>\n",
       "      <td>2</td>\n",
       "      <td>-0.420320</td>\n",
       "      <td>0.57807</td>\n",
       "      <td>0.61447</td>\n",
       "      <td>-0.031505</td>\n",
       "      <td>2</td>\n",
       "      <td>3</td>\n",
       "      <td>1</td>\n",
       "      <td>1</td>\n",
       "      <td>2</td>\n",
       "      <td>3</td>\n",
       "      <td>Dead</td>\n",
       "    </tr>\n",
       "    <tr>\n",
       "      <th>2</th>\n",
       "      <td>69</td>\n",
       "      <td>2</td>\n",
       "      <td>0.213980</td>\n",
       "      <td>1.31140</td>\n",
       "      <td>-0.32747</td>\n",
       "      <td>-0.234260</td>\n",
       "      <td>3</td>\n",
       "      <td>1</td>\n",
       "      <td>1</td>\n",
       "      <td>1</td>\n",
       "      <td>2</td>\n",
       "      <td>1</td>\n",
       "      <td>Alive</td>\n",
       "    </tr>\n",
       "    <tr>\n",
       "      <th>3</th>\n",
       "      <td>56</td>\n",
       "      <td>2</td>\n",
       "      <td>0.345090</td>\n",
       "      <td>-0.21147</td>\n",
       "      <td>-0.19304</td>\n",
       "      <td>0.124270</td>\n",
       "      <td>2</td>\n",
       "      <td>1</td>\n",
       "      <td>1</td>\n",
       "      <td>1</td>\n",
       "      <td>2</td>\n",
       "      <td>2</td>\n",
       "      <td>Alive</td>\n",
       "    </tr>\n",
       "    <tr>\n",
       "      <th>4</th>\n",
       "      <td>56</td>\n",
       "      <td>2</td>\n",
       "      <td>0.221550</td>\n",
       "      <td>1.90680</td>\n",
       "      <td>0.52045</td>\n",
       "      <td>-0.311990</td>\n",
       "      <td>2</td>\n",
       "      <td>1</td>\n",
       "      <td>1</td>\n",
       "      <td>1</td>\n",
       "      <td>2</td>\n",
       "      <td>1</td>\n",
       "      <td>Dead</td>\n",
       "    </tr>\n",
       "  </tbody>\n",
       "</table>\n",
       "</div>"
      ],
      "text/plain": [
       "   Age  Gender  Protein1  Protein2  Protein3  Protein4  Tumour_Stage  \\\n",
       "0   36       2  0.080353   0.42638   0.54715  0.273680             3   \n",
       "1   43       2 -0.420320   0.57807   0.61447 -0.031505             2   \n",
       "2   69       2  0.213980   1.31140  -0.32747 -0.234260             3   \n",
       "3   56       2  0.345090  -0.21147  -0.19304  0.124270             2   \n",
       "4   56       2  0.221550   1.90680   0.52045 -0.311990             2   \n",
       "\n",
       "   Histology  ER status  PR status  HER2 status  Surgery_type Patient_Status  \n",
       "0          1          1          1            2             2          Alive  \n",
       "1          3          1          1            2             3           Dead  \n",
       "2          1          1          1            2             1          Alive  \n",
       "3          1          1          1            2             2          Alive  \n",
       "4          1          1          1            2             1           Dead  "
      ]
     },
     "execution_count": 177,
     "metadata": {},
     "output_type": "execute_result"
    }
   ],
   "source": [
    "#Data Preparation(converting categorical values into numerical values.)\n",
    "data['Tumour_Stage']=data['Tumour_Stage'].map({'I':1,'II':2,'III':3}) \n",
    "data['Histology']=data['Histology'].map({'Infiltrating Ductal Carcinoma':1,'Infiltrating Lobular Carcinoma':2,'Mucinous Carcinoma':3,}) \n",
    "data['ER status']=data['ER status'].map({'Positive':1})\n",
    "data['PR status']=data['PR status'].map({'Positive':1})\n",
    "data['HER2 status']=data['HER2 status'].map({'Positive':1,'Negative':2}) \n",
    "data['Gender']=data['Gender'].map({'MALE':1,'FEMALE':2}) \n",
    "data['Surgery_type']=data['Surgery_type'].map({'Other':1,'Modified Radical Mastectomy':2,'Lumpectomy':3,'Simple Mastectomy':4}) \n",
    "data.head()"
   ]
  },
  {
   "cell_type": "raw",
   "id": "be573168",
   "metadata": {},
   "source": [
    "By this way we can convert categorical values into numerical values,so it could be easier to apply algorithms to analyse the data."
   ]
  },
  {
   "cell_type": "markdown",
   "id": "0130674d",
   "metadata": {},
   "source": [
    "***ALGORITHMS***"
   ]
  },
  {
   "cell_type": "code",
   "execution_count": 178,
   "id": "b73a313a",
   "metadata": {},
   "outputs": [
    {
     "data": {
      "text/plain": [
       "0      Alive\n",
       "1       Dead\n",
       "2      Alive\n",
       "3      Alive\n",
       "4       Dead\n",
       "       ...  \n",
       "329     Dead\n",
       "330     Dead\n",
       "331     Dead\n",
       "332     Dead\n",
       "333     Dead\n",
       "Name: Patient_Status, Length: 317, dtype: object"
      ]
     },
     "execution_count": 178,
     "metadata": {},
     "output_type": "execute_result"
    }
   ],
   "source": [
    "#defining x and y variables.\n",
    "x=data[[\"Age\",\"Gender\",\"Protein1\",\"Protein2\",\"Protein3\",\"Protein4\",\"Tumour_Stage\",\"Histology\",\"ER status\",\"PR status\",\"HER2 status\",\"Surgery_type\"]]\n",
    "y=data[\"Patient_Status\"]\n",
    "\n",
    "y"
   ]
  },
  {
   "cell_type": "code",
   "execution_count": 179,
   "id": "fe2d5f5f",
   "metadata": {},
   "outputs": [
    {
     "name": "stdout",
     "output_type": "stream",
     "text": [
      "Size of training set: (221, 12)\n",
      "Size of training set: (96, 12)\n"
     ]
    }
   ],
   "source": [
    "#Before applying algorithms in the dataset first we have to split the dataset into two parts i.e train_set and test_set.\n",
    "from sklearn.model_selection import train_test_split\n",
    "# Import train_test_split function\n",
    "X_train, X_test, y_train, y_test = train_test_split(x,y, test_size = 0.3, random_state = 42)\n",
    "print(\"Size of training set:\", X_train.shape) \n",
    "print(\"Size of training set:\", X_test.shape)"
   ]
  },
  {
   "cell_type": "markdown",
   "id": "75fc45e6",
   "metadata": {},
   "source": [
    "***1)LOGISTIC REGRESSION***"
   ]
  },
  {
   "cell_type": "code",
   "execution_count": 180,
   "id": "c882efe0",
   "metadata": {},
   "outputs": [
    {
     "name": "stderr",
     "output_type": "stream",
     "text": [
      "c:\\ProgramData\\Anaconda3\\lib\\site-packages\\sklearn\\linear_model\\_logistic.py:763: ConvergenceWarning: lbfgs failed to converge (status=1):\n",
      "STOP: TOTAL NO. of ITERATIONS REACHED LIMIT.\n",
      "\n",
      "Increase the number of iterations (max_iter) or scale the data as shown in:\n",
      "    https://scikit-learn.org/stable/modules/preprocessing.html\n",
      "Please also refer to the documentation for alternative solver options:\n",
      "    https://scikit-learn.org/stable/modules/linear_model.html#logistic-regression\n",
      "  n_iter_i = _check_optimize_result(\n"
     ]
    },
    {
     "data": {
      "text/plain": [
       "LogisticRegression()"
      ]
     },
     "execution_count": 180,
     "metadata": {},
     "output_type": "execute_result"
    }
   ],
   "source": [
    "from sklearn.linear_model import LogisticRegression\n",
    "logreg = LogisticRegression() \n",
    "logreg.fit(X_train, y_train)"
   ]
  },
  {
   "cell_type": "code",
   "execution_count": 181,
   "id": "a9041fb9",
   "metadata": {},
   "outputs": [
    {
     "name": "stdout",
     "output_type": "stream",
     "text": [
      "Confusion matrix:\n",
      " [[80  0]\n",
      " [16  0]]\n"
     ]
    }
   ],
   "source": [
    "y_pred0 = logreg.predict(X_test)\n",
    "c_matrix= confusion_matrix(y_test, y_pred0)\n",
    "print('Confusion matrix:\\n',c_matrix)"
   ]
  },
  {
   "cell_type": "code",
   "execution_count": 182,
   "id": "c206a781",
   "metadata": {},
   "outputs": [
    {
     "name": "stdout",
     "output_type": "stream",
     "text": [
      "Accuracy of Logistic Regression model :  83.33\n",
      "              precision    recall  f1-score   support\n",
      "\n",
      "       Alive       0.83      1.00      0.91        80\n",
      "        Dead       0.00      0.00      0.00        16\n",
      "\n",
      "    accuracy                           0.83        96\n",
      "   macro avg       0.42      0.50      0.45        96\n",
      "weighted avg       0.69      0.83      0.76        96\n",
      "\n"
     ]
    },
    {
     "name": "stderr",
     "output_type": "stream",
     "text": [
      "c:\\ProgramData\\Anaconda3\\lib\\site-packages\\sklearn\\metrics\\_classification.py:1245: UndefinedMetricWarning: Precision and F-score are ill-defined and being set to 0.0 in labels with no predicted samples. Use `zero_division` parameter to control this behavior.\n",
      "  _warn_prf(average, modifier, msg_start, len(result))\n",
      "c:\\ProgramData\\Anaconda3\\lib\\site-packages\\sklearn\\metrics\\_classification.py:1245: UndefinedMetricWarning: Precision and F-score are ill-defined and being set to 0.0 in labels with no predicted samples. Use `zero_division` parameter to control this behavior.\n",
      "  _warn_prf(average, modifier, msg_start, len(result))\n",
      "c:\\ProgramData\\Anaconda3\\lib\\site-packages\\sklearn\\metrics\\_classification.py:1245: UndefinedMetricWarning: Precision and F-score are ill-defined and being set to 0.0 in labels with no predicted samples. Use `zero_division` parameter to control this behavior.\n",
      "  _warn_prf(average, modifier, msg_start, len(result))\n"
     ]
    }
   ],
   "source": [
    "acc_logreg = round( metrics.accuracy_score(y_test, y_pred0) * 100, 2 )\n",
    "print( 'Accuracy of Logistic Regression model : ', acc_logreg )\n",
    "print(classification_report(y_test,y_pred0))"
   ]
  },
  {
   "cell_type": "markdown",
   "id": "b087364a",
   "metadata": {},
   "source": [
    "By performing Logistic Regression Model the Accuracy is 83.33%."
   ]
  },
  {
   "cell_type": "code",
   "execution_count": 183,
   "id": "0ef9f218",
   "metadata": {},
   "outputs": [
    {
     "data": {
      "text/plain": [
       "SVC()"
      ]
     },
     "execution_count": 183,
     "metadata": {},
     "output_type": "execute_result"
    }
   ],
   "source": [
    "from sklearn.svm import SVC\n",
    "model = SVC()\n",
    "model.fit(X_train,y_train)"
   ]
  },
  {
   "cell_type": "code",
   "execution_count": 184,
   "id": "0789888a",
   "metadata": {},
   "outputs": [
    {
     "name": "stdout",
     "output_type": "stream",
     "text": [
      "Confusion matrix:\n",
      " [[80  0]\n",
      " [16  0]]\n",
      "Accuracy of Support Vector Machine model :  83.33\n",
      "              precision    recall  f1-score   support\n",
      "\n",
      "       Alive       0.83      1.00      0.91        80\n",
      "        Dead       0.00      0.00      0.00        16\n",
      "\n",
      "    accuracy                           0.83        96\n",
      "   macro avg       0.42      0.50      0.45        96\n",
      "weighted avg       0.69      0.83      0.76        96\n",
      "\n"
     ]
    },
    {
     "name": "stderr",
     "output_type": "stream",
     "text": [
      "c:\\ProgramData\\Anaconda3\\lib\\site-packages\\sklearn\\metrics\\_classification.py:1245: UndefinedMetricWarning: Precision and F-score are ill-defined and being set to 0.0 in labels with no predicted samples. Use `zero_division` parameter to control this behavior.\n",
      "  _warn_prf(average, modifier, msg_start, len(result))\n",
      "c:\\ProgramData\\Anaconda3\\lib\\site-packages\\sklearn\\metrics\\_classification.py:1245: UndefinedMetricWarning: Precision and F-score are ill-defined and being set to 0.0 in labels with no predicted samples. Use `zero_division` parameter to control this behavior.\n",
      "  _warn_prf(average, modifier, msg_start, len(result))\n",
      "c:\\ProgramData\\Anaconda3\\lib\\site-packages\\sklearn\\metrics\\_classification.py:1245: UndefinedMetricWarning: Precision and F-score are ill-defined and being set to 0.0 in labels with no predicted samples. Use `zero_division` parameter to control this behavior.\n",
      "  _warn_prf(average, modifier, msg_start, len(result))\n"
     ]
    }
   ],
   "source": [
    "y_pred2=model.predict(X_test)\n",
    "c_matrix= confusion_matrix(y_test, y_pred2)\n",
    "print('Confusion matrix:\\n',c_matrix)\n",
    "acc_svm=round(metrics.accuracy_score(y_test,y_pred2)*100,2)\n",
    "print( 'Accuracy of Support Vector Machine model : ', acc_svm )\n",
    "print(classification_report(y_test,y_pred2))"
   ]
  },
  {
   "cell_type": "markdown",
   "id": "0f178a8b",
   "metadata": {},
   "source": [
    "By performing Support Vector Machine model the Accuracy is 83.33%."
   ]
  },
  {
   "cell_type": "code",
   "execution_count": 185,
   "id": "0b2fc9bf",
   "metadata": {},
   "outputs": [
    {
     "data": {
      "text/plain": [
       "GaussianNB()"
      ]
     },
     "execution_count": 185,
     "metadata": {},
     "output_type": "execute_result"
    }
   ],
   "source": [
    "from sklearn.naive_bayes import GaussianNB\n",
    "model = GaussianNB() \n",
    "model.fit(X_train,y_train)"
   ]
  },
  {
   "cell_type": "code",
   "execution_count": 186,
   "id": "7aa68947",
   "metadata": {},
   "outputs": [
    {
     "name": "stdout",
     "output_type": "stream",
     "text": [
      "Confusion matrix:\n",
      " [[79  1]\n",
      " [16  0]]\n",
      "Accuracy of Gaussian Naive Bayes model :  82.29\n",
      "              precision    recall  f1-score   support\n",
      "\n",
      "       Alive       0.83      0.99      0.90        80\n",
      "        Dead       0.00      0.00      0.00        16\n",
      "\n",
      "    accuracy                           0.82        96\n",
      "   macro avg       0.42      0.49      0.45        96\n",
      "weighted avg       0.69      0.82      0.75        96\n",
      "\n"
     ]
    }
   ],
   "source": [
    "y_pred3 = model.predict(X_test)\n",
    "c_matrix= confusion_matrix(y_test, y_pred3)\n",
    "print('Confusion matrix:\\n',c_matrix)\n",
    "acc_nb = round( metrics.accuracy_score(y_test, y_pred3) * 100, 2 )\n",
    "print( 'Accuracy of Gaussian Naive Bayes model : ', acc_nb )\n",
    "print(classification_report(y_test,y_pred3))"
   ]
  },
  {
   "cell_type": "markdown",
   "id": "fb9c500b",
   "metadata": {},
   "source": [
    "By performing Gaussian Naive Bayes Model Accuracy is 82.89%."
   ]
  },
  {
   "cell_type": "code",
   "execution_count": 187,
   "id": "a8cc062b",
   "metadata": {},
   "outputs": [
    {
     "data": {
      "text/plain": [
       "DecisionTreeClassifier(criterion='entropy', max_depth=50, max_features='auto',\n",
       "                       min_samples_leaf=5, min_samples_split=100)"
      ]
     },
     "execution_count": 187,
     "metadata": {},
     "output_type": "execute_result"
    }
   ],
   "source": [
    "# Decision Tree Classifier\n",
    "\n",
    "# Import Decision tree classifier\n",
    "from sklearn.tree import DecisionTreeClassifier\n",
    "\n",
    "# Create a Decision tree classifier model\n",
    "clf = DecisionTreeClassifier()\n",
    "\n",
    "# Hyperparameter Optimization\n",
    "parameters = {'max_features': ['log2', 'sqrt','auto'], \n",
    "              'criterion': ['entropy', 'gini'],\n",
    "              'max_depth': [2, 3, 5, 10, 50], \n",
    "              'min_samples_split': [2, 3, 50, 100],\n",
    "              'min_samples_leaf': [1, 5, 8, 10]\n",
    "             }\n",
    "\n",
    "# Run the grid search\n",
    "grid_obj = GridSearchCV(clf, parameters)\n",
    "grid_obj = grid_obj.fit(X_train, y_train)\n",
    "\n",
    "# Set the clf to the best combination of parameters\n",
    "clf = grid_obj.best_estimator_\n",
    "\n",
    "# Train the model using the training sets \n",
    "clf.fit(X_train, y_train)"
   ]
  },
  {
   "cell_type": "code",
   "execution_count": 188,
   "id": "4e857cd7",
   "metadata": {},
   "outputs": [
    {
     "name": "stdout",
     "output_type": "stream",
     "text": [
      "Confusion matrix:\n",
      " [[80  0]\n",
      " [16  0]]\n",
      "Accuracy of Decision Tree model :  83.33\n",
      "              precision    recall  f1-score   support\n",
      "\n",
      "       Alive       0.83      1.00      0.91        80\n",
      "        Dead       0.00      0.00      0.00        16\n",
      "\n",
      "    accuracy                           0.83        96\n",
      "   macro avg       0.42      0.50      0.45        96\n",
      "weighted avg       0.69      0.83      0.76        96\n",
      "\n"
     ]
    },
    {
     "name": "stderr",
     "output_type": "stream",
     "text": [
      "c:\\ProgramData\\Anaconda3\\lib\\site-packages\\sklearn\\metrics\\_classification.py:1245: UndefinedMetricWarning: Precision and F-score are ill-defined and being set to 0.0 in labels with no predicted samples. Use `zero_division` parameter to control this behavior.\n",
      "  _warn_prf(average, modifier, msg_start, len(result))\n",
      "c:\\ProgramData\\Anaconda3\\lib\\site-packages\\sklearn\\metrics\\_classification.py:1245: UndefinedMetricWarning: Precision and F-score are ill-defined and being set to 0.0 in labels with no predicted samples. Use `zero_division` parameter to control this behavior.\n",
      "  _warn_prf(average, modifier, msg_start, len(result))\n",
      "c:\\ProgramData\\Anaconda3\\lib\\site-packages\\sklearn\\metrics\\_classification.py:1245: UndefinedMetricWarning: Precision and F-score are ill-defined and being set to 0.0 in labels with no predicted samples. Use `zero_division` parameter to control this behavior.\n",
      "  _warn_prf(average, modifier, msg_start, len(result))\n"
     ]
    }
   ],
   "source": [
    "# Prediction on test set\n",
    "y_pred4 = clf.predict(X_test)\n",
    "c_matrix= confusion_matrix(y_test, y_pred4)\n",
    "print('Confusion matrix:\\n',c_matrix)\n",
    "acc_dt = round( metrics.accuracy_score(y_test, y_pred4) * 100, 2 )\n",
    "print( 'Accuracy of Decision Tree model : ', acc_dt )\n",
    "print(classification_report(y_test,y_pred4))\n"
   ]
  },
  {
   "cell_type": "markdown",
   "id": "c10e6acd",
   "metadata": {},
   "source": [
    "By performing Decision Tree model Accuracy is 83.33%."
   ]
  },
  {
   "cell_type": "code",
   "execution_count": 189,
   "id": "7e4db819",
   "metadata": {},
   "outputs": [
    {
     "data": {
      "text/plain": [
       "RandomForestClassifier(criterion='entropy', max_depth=10, max_features='log2',\n",
       "                       min_samples_split=3, n_estimators=10)"
      ]
     },
     "execution_count": 189,
     "metadata": {},
     "output_type": "execute_result"
    }
   ],
   "source": [
    "# Random Forest Classifier\n",
    "\n",
    "# Import library of RandomForestClassifier model\n",
    "from sklearn.ensemble import RandomForestClassifier\n",
    "\n",
    "# Create a Random Forest Classifier\n",
    "rf = RandomForestClassifier()\n",
    "\n",
    "# Hyperparameter Optimization\n",
    "parameters = {'n_estimators': [4, 6, 9, 10, 15], \n",
    "              'max_features': ['log2', 'sqrt','auto'], \n",
    "              'criterion': ['entropy', 'gini'],\n",
    "              'max_depth': [2, 3, 5, 10], \n",
    "              'min_samples_split': [2, 3, 5],\n",
    "              'min_samples_leaf': [1, 5, 8]\n",
    "             }\n",
    "\n",
    "# Run the grid search\n",
    "grid_obj = GridSearchCV(rf, parameters)\n",
    "grid_obj = grid_obj.fit(X_train, y_train)\n",
    "\n",
    "# Set the rf to the best combination of parameters\n",
    "rf = grid_obj.best_estimator_\n",
    "\n",
    "# Train the model using the training sets \n",
    "rf.fit(X_train,y_train)"
   ]
  },
  {
   "cell_type": "code",
   "execution_count": 190,
   "id": "a3e8c402",
   "metadata": {},
   "outputs": [
    {
     "name": "stdout",
     "output_type": "stream",
     "text": [
      "Confusion matrix:\n",
      " [[79  1]\n",
      " [16  0]]\n",
      "Accuracy of Random Forest model :  82.29\n",
      "              precision    recall  f1-score   support\n",
      "\n",
      "       Alive       0.83      0.99      0.90        80\n",
      "        Dead       0.00      0.00      0.00        16\n",
      "\n",
      "    accuracy                           0.82        96\n",
      "   macro avg       0.42      0.49      0.45        96\n",
      "weighted avg       0.69      0.82      0.75        96\n",
      "\n"
     ]
    }
   ],
   "source": [
    "# Prediction on test data\n",
    "y_pred5 = rf.predict(X_test)\n",
    "c_matrix= confusion_matrix(y_test, y_pred5)\n",
    "print('Confusion matrix:\\n',c_matrix)\n",
    "acc_rf = round( metrics.accuracy_score(y_test, y_pred5) * 100 , 2 )\n",
    "print( 'Accuracy of Random Forest model : ', acc_rf )\n",
    "print(classification_report(y_test,y_pred5))"
   ]
  },
  {
   "cell_type": "markdown",
   "id": "4af062e3",
   "metadata": {},
   "source": [
    "By performing Random Forest model Accuracy is 82.29%."
   ]
  },
  {
   "cell_type": "code",
   "execution_count": 191,
   "id": "d5ee5399",
   "metadata": {},
   "outputs": [
    {
     "data": {
      "text/plain": [
       "KNeighborsClassifier(leaf_size=10, n_neighbors=10, weights='distance')"
      ]
     },
     "execution_count": 191,
     "metadata": {},
     "output_type": "execute_result"
    }
   ],
   "source": [
    "# K - Nearest Neighbors\n",
    "\n",
    "# Import library of KNeighborsClassifier model\n",
    "from sklearn.neighbors import KNeighborsClassifier\n",
    "\n",
    "# Create a KNN Classifier\n",
    "knn = KNeighborsClassifier()\n",
    "\n",
    "# Hyperparameter Optimization\n",
    "parameters = {'n_neighbors': [3, 4, 5, 10], \n",
    "              'weights': ['uniform', 'distance'],\n",
    "              'algorithm' : ['auto', 'ball_tree', 'kd_tree', 'brute'],\n",
    "              'leaf_size' : [10, 20, 30, 50]\n",
    "             }\n",
    "\n",
    "# Run the grid search\n",
    "grid_obj = GridSearchCV(knn, parameters)\n",
    "grid_obj = grid_obj.fit(X_train, y_train)\n",
    "\n",
    "# Set the knn to the best combination of parameters\n",
    "knn = grid_obj.best_estimator_\n",
    "\n",
    "# Train the model using the training sets \n",
    "knn.fit(X_train,y_train)"
   ]
  },
  {
   "cell_type": "code",
   "execution_count": 192,
   "id": "bd2b6990",
   "metadata": {},
   "outputs": [
    {
     "name": "stdout",
     "output_type": "stream",
     "text": [
      "Confusion matrix:\n",
      " [[73  7]\n",
      " [15  1]]\n",
      "Accuracy of KNN model :  77.08\n",
      "              precision    recall  f1-score   support\n",
      "\n",
      "       Alive       0.83      0.91      0.87        80\n",
      "        Dead       0.12      0.06      0.08        16\n",
      "\n",
      "    accuracy                           0.77        96\n",
      "   macro avg       0.48      0.49      0.48        96\n",
      "weighted avg       0.71      0.77      0.74        96\n",
      "\n"
     ]
    }
   ],
   "source": [
    "# Prediction on test data\n",
    "y_pred = knn.predict(X_test)\n",
    "c_matrix= confusion_matrix(y_test, y_pred)\n",
    "print('Confusion matrix:\\n',c_matrix)\n",
    "acc_knn = round( metrics.accuracy_score(y_test, y_pred) * 100, 2 )\n",
    "print( 'Accuracy of KNN model : ', acc_knn )\n",
    "print(classification_report(y_test,y_pred))"
   ]
  },
  {
   "cell_type": "markdown",
   "id": "e43cc1b5",
   "metadata": {},
   "source": [
    "By performing KNN model Accuracy is 77.08%."
   ]
  },
  {
   "cell_type": "code",
   "execution_count": 193,
   "id": "d493501b",
   "metadata": {},
   "outputs": [
    {
     "data": {
      "text/html": [
       "<div>\n",
       "<style scoped>\n",
       "    .dataframe tbody tr th:only-of-type {\n",
       "        vertical-align: middle;\n",
       "    }\n",
       "\n",
       "    .dataframe tbody tr th {\n",
       "        vertical-align: top;\n",
       "    }\n",
       "\n",
       "    .dataframe thead th {\n",
       "        text-align: right;\n",
       "    }\n",
       "</style>\n",
       "<table border=\"1\" class=\"dataframe\">\n",
       "  <thead>\n",
       "    <tr style=\"text-align: right;\">\n",
       "      <th></th>\n",
       "      <th>Model</th>\n",
       "      <th>Accuracy</th>\n",
       "    </tr>\n",
       "  </thead>\n",
       "  <tbody>\n",
       "    <tr>\n",
       "      <th>0</th>\n",
       "      <td>Logistic Regression</td>\n",
       "      <td>83.33</td>\n",
       "    </tr>\n",
       "    <tr>\n",
       "      <th>2</th>\n",
       "      <td>Decision Tree</td>\n",
       "      <td>83.33</td>\n",
       "    </tr>\n",
       "    <tr>\n",
       "      <th>4</th>\n",
       "      <td>Support Vector Machines</td>\n",
       "      <td>83.33</td>\n",
       "    </tr>\n",
       "    <tr>\n",
       "      <th>1</th>\n",
       "      <td>Naive Bayes</td>\n",
       "      <td>82.29</td>\n",
       "    </tr>\n",
       "    <tr>\n",
       "      <th>3</th>\n",
       "      <td>Random Forest</td>\n",
       "      <td>82.29</td>\n",
       "    </tr>\n",
       "    <tr>\n",
       "      <th>5</th>\n",
       "      <td>K - Nearest Neighbors</td>\n",
       "      <td>77.08</td>\n",
       "    </tr>\n",
       "  </tbody>\n",
       "</table>\n",
       "</div>"
      ],
      "text/plain": [
       "                     Model  Accuracy\n",
       "0      Logistic Regression     83.33\n",
       "2            Decision Tree     83.33\n",
       "4  Support Vector Machines     83.33\n",
       "1              Naive Bayes     82.29\n",
       "3            Random Forest     82.29\n",
       "5    K - Nearest Neighbors     77.08"
      ]
     },
     "execution_count": 193,
     "metadata": {},
     "output_type": "execute_result"
    }
   ],
   "source": [
    "models = pd.DataFrame({\n",
    "    'Model': ['Logistic Regression', 'Naive Bayes', 'Decision Tree', 'Random Forest', 'Support Vector Machines', \n",
    "              'K - Nearest Neighbors'],\n",
    "    'Accuracy': [acc_logreg, acc_nb, acc_dt, acc_rf, acc_svm, acc_knn],})\n",
    "models.sort_values(by='Accuracy', ascending=False)"
   ]
  },
  {
   "cell_type": "markdown",
   "id": "720083a5",
   "metadata": {},
   "source": [
    "By this we can infer that Logistic Regression,Decision Tree,Support Vector Machines have same and highest accuracies with 83.33%.Naive Bayes,Random Forest comes next with 82.29%.K-Nearest Neighbors has the least accuracies with 77.08%."
   ]
  },
  {
   "cell_type": "code",
   "execution_count": 194,
   "id": "4389c63e",
   "metadata": {},
   "outputs": [
    {
     "data": {
      "image/png": "[encoded data removed]",
      "text/plain": [
       "<Figure size 576x576 with 1 Axes>"
      ]
     },
     "metadata": {
      "needs_background": "light"
     },
     "output_type": "display_data"
    }
   ],
   "source": [
    "m=models.sort_values(by='Accuracy', ascending=True)\n",
    "plt.figure(figsize=(8,8))\n",
    "plt.barh(m['Model'],m['Accuracy'],color=['blue','green','red','cyan','magenta','yellow'])\n",
    "plt.title('Comparision of different Algorithm on the basis of Accuracy ')\n",
    "plt.xlabel('Accuracy')\n",
    "plt.ylabel('Algorithm')\n",
    "plt.show()\n"
   ]
  },
  {
   "cell_type": "markdown",
   "id": "9b3976b6",
   "metadata": {},
   "source": [
    "Accuracies are shown in pictorial format of the Algorithms."
   ]
  },
  {
   "cell_type": "markdown",
   "id": "0d983074",
   "metadata": {},
   "source": [
    "***Conclusion***\n",
    "Out of six machine learning algorithms we applied, we conclude that Logistic Regression,Decision Tree,Support Vector Machines have same and highest accuracies with 83.33%,So we can infer any of these three algorithms to find the precision and accuracy of the dataset."
   ]
  }
 ],
 "metadata": {
  "kernelspec": {
   "display_name": "Python 3 (ipykernel)",
   "language": "python",
   "name": "python3"
  },
  "language_info": {
   "codemirror_mode": {
    "name": "ipython",
    "version": 3
   },
   "file_extension": ".py",
   "mimetype": "text/x-python",
   "name": "python",
   "nbconvert_exporter": "python",
   "pygments_lexer": "ipython3",
   "version": "3.9.12"
  },
  "vscode": {
   "interpreter": {
    "hash": "ad2bdc8ecc057115af97d19610ffacc2b4e99fae6737bb82f5d7fb13d2f2c186"
   }
  }
 },
 "nbformat": 4,
 "nbformat_minor": 5
}
